{
 "cells": [
  {
   "cell_type": "code",
   "execution_count": 4,
   "id": "3c8cc727",
   "metadata": {},
   "outputs": [
    {
     "name": "stdout",
     "output_type": "stream",
     "text": [
      "\"jupyter notebook python tutorial\"\n"
     ]
    }
   ],
   "source": [
    "! echo \"jupyter notebook python tutorial\""
   ]
  },
  {
   "cell_type": "code",
   "execution_count": 1,
   "id": "eeceefd3",
   "metadata": {},
   "outputs": [
    {
     "data": {
      "text/plain": [
       "'jupyter notebook python tutorial'"
      ]
     },
     "metadata": {},
     "output_type": "display_data"
    }
   ],
   "source": [
    "display(\"jupyter notebook python tutorial\")"
   ]
  },
  {
   "cell_type": "code",
   "execution_count": 12,
   "id": "b2307344",
   "metadata": {},
   "outputs": [],
   "source": [
    "a=10\n",
    "b=20"
   ]
  },
  {
   "cell_type": "code",
   "execution_count": 13,
   "id": "e876d763",
   "metadata": {},
   "outputs": [
    {
     "data": {
      "text/plain": [
       "(10, 20)"
      ]
     },
     "execution_count": 13,
     "metadata": {},
     "output_type": "execute_result"
    }
   ],
   "source": [
    "a,b"
   ]
  },
  {
   "cell_type": "code",
   "execution_count": 14,
   "id": "85f38ad6",
   "metadata": {},
   "outputs": [
    {
     "data": {
      "text/plain": [
       "30"
      ]
     },
     "execution_count": 14,
     "metadata": {},
     "output_type": "execute_result"
    }
   ],
   "source": [
    "a+b\n",
    "  "
   ]
  },
  {
   "cell_type": "code",
   "execution_count": 15,
   "id": "58e76e8a",
   "metadata": {},
   "outputs": [
    {
     "data": {
      "text/plain": [
       "-10"
      ]
     },
     "execution_count": 15,
     "metadata": {},
     "output_type": "execute_result"
    }
   ],
   "source": [
    "a-b\n",
    "    "
   ]
  },
  {
   "cell_type": "code",
   "execution_count": 16,
   "id": "d960a434",
   "metadata": {},
   "outputs": [
    {
     "data": {
      "text/plain": [
       "200"
      ]
     },
     "execution_count": 16,
     "metadata": {},
     "output_type": "execute_result"
    }
   ],
   "source": [
    "a*b"
   ]
  },
  {
   "cell_type": "markdown",
   "id": "0de04ba1",
   "metadata": {},
   "source": [
    "# string"
   ]
  },
  {
   "cell_type": "code",
   "execution_count": 17,
   "id": "e954e762",
   "metadata": {},
   "outputs": [],
   "source": [
    "my_string=\"pankaj\""
   ]
  },
  {
   "cell_type": "code",
   "execution_count": 23,
   "id": "d0b99b50",
   "metadata": {},
   "outputs": [
    {
     "data": {
      "text/plain": [
       "'pankaj'"
      ]
     },
     "execution_count": 23,
     "metadata": {},
     "output_type": "execute_result"
    }
   ],
   "source": [
    "my_string"
   ]
  },
  {
   "cell_type": "code",
   "execution_count": 24,
   "id": "8e13d60c",
   "metadata": {},
   "outputs": [
    {
     "data": {
      "text/plain": [
       "'p'"
      ]
     },
     "execution_count": 24,
     "metadata": {},
     "output_type": "execute_result"
    }
   ],
   "source": [
    "my_string[0]"
   ]
  },
  {
   "cell_type": "code",
   "execution_count": 25,
   "id": "43dd73c9",
   "metadata": {},
   "outputs": [
    {
     "data": {
      "text/plain": [
       "'a'"
      ]
     },
     "execution_count": 25,
     "metadata": {},
     "output_type": "execute_result"
    }
   ],
   "source": [
    "my_string[1]"
   ]
  },
  {
   "cell_type": "code",
   "execution_count": 26,
   "id": "326937fa",
   "metadata": {},
   "outputs": [
    {
     "data": {
      "text/plain": [
       "'j'"
      ]
     },
     "execution_count": 26,
     "metadata": {},
     "output_type": "execute_result"
    }
   ],
   "source": [
    "my_string[-1]"
   ]
  },
  {
   "cell_type": "code",
   "execution_count": 15,
   "id": "9d6c454d",
   "metadata": {},
   "outputs": [
    {
     "data": {
      "text/plain": [
       "'j'"
      ]
     },
     "execution_count": 15,
     "metadata": {},
     "output_type": "execute_result"
    }
   ],
   "source": [
    "my_string[5:13]"
   ]
  },
  {
   "cell_type": "code",
   "execution_count": 32,
   "id": "52336c88",
   "metadata": {},
   "outputs": [
    {
     "data": {
      "text/plain": [
       "-1"
      ]
     },
     "execution_count": 32,
     "metadata": {},
     "output_type": "execute_result"
    }
   ],
   "source": [
    "my_string.find('i')"
   ]
  },
  {
   "cell_type": "code",
   "execution_count": 17,
   "id": "ebe679a8",
   "metadata": {},
   "outputs": [
    {
     "data": {
      "text/plain": [
       "['p', 'nk', 'j']"
      ]
     },
     "execution_count": 17,
     "metadata": {},
     "output_type": "execute_result"
    }
   ],
   "source": [
    "my_string.split('a')"
   ]
  },
  {
   "cell_type": "code",
   "execution_count": 18,
   "id": "e5053bcf",
   "metadata": {},
   "outputs": [
    {
     "data": {
      "text/plain": [
       "'pynkyj'"
      ]
     },
     "execution_count": 18,
     "metadata": {},
     "output_type": "execute_result"
    }
   ],
   "source": [
    "my_string.replace('a','y')"
   ]
  },
  {
   "cell_type": "code",
   "execution_count": 35,
   "id": "cae51e53",
   "metadata": {},
   "outputs": [
    {
     "data": {
      "text/plain": [
       "2"
      ]
     },
     "execution_count": 35,
     "metadata": {},
     "output_type": "execute_result"
    }
   ],
   "source": [
    "my_string.count(\"a\")"
   ]
  },
  {
   "cell_type": "markdown",
   "id": "4b0cfe22",
   "metadata": {},
   "source": [
    "# tuple"
   ]
  },
  {
   "cell_type": "code",
   "execution_count": 20,
   "id": "65f903c0",
   "metadata": {},
   "outputs": [],
   "source": [
    "tup1=(1,\"a\",True,2,\"b\",False)"
   ]
  },
  {
   "cell_type": "code",
   "execution_count": 21,
   "id": "7977d3fd",
   "metadata": {},
   "outputs": [
    {
     "data": {
      "text/plain": [
       "1"
      ]
     },
     "execution_count": 21,
     "metadata": {},
     "output_type": "execute_result"
    }
   ],
   "source": [
    "tup1[0]"
   ]
  },
  {
   "cell_type": "code",
   "execution_count": 22,
   "id": "89e11c3a",
   "metadata": {},
   "outputs": [
    {
     "data": {
      "text/plain": [
       "2"
      ]
     },
     "execution_count": 22,
     "metadata": {},
     "output_type": "execute_result"
    }
   ],
   "source": [
    "tup1[-3]"
   ]
  },
  {
   "cell_type": "code",
   "execution_count": 23,
   "id": "cd8b82b6",
   "metadata": {},
   "outputs": [
    {
     "data": {
      "text/plain": [
       "'b'"
      ]
     },
     "execution_count": 23,
     "metadata": {},
     "output_type": "execute_result"
    }
   ],
   "source": [
    "tup1[4]"
   ]
  },
  {
   "cell_type": "code",
   "execution_count": 24,
   "id": "386d97c0",
   "metadata": {},
   "outputs": [
    {
     "data": {
      "text/plain": [
       "2"
      ]
     },
     "execution_count": 24,
     "metadata": {},
     "output_type": "execute_result"
    }
   ],
   "source": [
    "tup1[3]"
   ]
  },
  {
   "cell_type": "code",
   "execution_count": 25,
   "id": "a23a914c",
   "metadata": {},
   "outputs": [
    {
     "data": {
      "text/plain": [
       "('a', True, 2, 'b')"
      ]
     },
     "execution_count": 25,
     "metadata": {},
     "output_type": "execute_result"
    }
   ],
   "source": [
    "tup1[1:5]"
   ]
  },
  {
   "cell_type": "code",
   "execution_count": 26,
   "id": "0d713e22",
   "metadata": {},
   "outputs": [
    {
     "data": {
      "text/plain": [
       "6"
      ]
     },
     "execution_count": 26,
     "metadata": {},
     "output_type": "execute_result"
    }
   ],
   "source": [
    "len(tup1)"
   ]
  },
  {
   "cell_type": "code",
   "execution_count": 34,
   "id": "9e39a862",
   "metadata": {},
   "outputs": [],
   "source": [
    "tup1=(1,\"a\",True,2,\"b\",False)\n",
    "tup2=(4,9,\"x\",\"s\",False)"
   ]
  },
  {
   "cell_type": "code",
   "execution_count": 35,
   "id": "7f2b0776",
   "metadata": {},
   "outputs": [
    {
     "name": "stdout",
     "output_type": "stream",
     "text": [
      "combined tuple (1, 'a', True, 2, 'b', False, 4, 9, 'x', 's', False)\n"
     ]
    }
   ],
   "source": [
    "tup=tup1+tup2\n",
    "print(\"combined tuple\",tup)"
   ]
  },
  {
   "cell_type": "code",
   "execution_count": 37,
   "id": "f1231778",
   "metadata": {},
   "outputs": [
    {
     "name": "stdout",
     "output_type": "stream",
     "text": [
      "separate tuples (1, 'a', True, 2, 'b', False) (4, 9, 'x', 's', False)\n"
     ]
    }
   ],
   "source": [
    "print(\"separate tuples\",tup1,tup2)"
   ]
  },
  {
   "cell_type": "code",
   "execution_count": 31,
   "id": "6a235bef",
   "metadata": {},
   "outputs": [],
   "source": [
    "tup3=(1,True)"
   ]
  },
  {
   "cell_type": "code",
   "execution_count": 38,
   "id": "89a93265",
   "metadata": {},
   "outputs": [
    {
     "name": "stdout",
     "output_type": "stream",
     "text": [
      "multiplication of tup3  (1, True, 1, True, 1, True)\n"
     ]
    }
   ],
   "source": [
    "print(\"multiplication of tup3 \",tup3*3)"
   ]
  },
  {
   "cell_type": "code",
   "execution_count": 53,
   "id": "4464213a",
   "metadata": {},
   "outputs": [
    {
     "data": {
      "text/plain": [
       "((1, True, 1, True, 1, True), (1, 'a', True, 2, 'b', False))"
      ]
     },
     "execution_count": 53,
     "metadata": {},
     "output_type": "execute_result"
    }
   ],
   "source": [
    "tup3*3,tup1"
   ]
  },
  {
   "cell_type": "code",
   "execution_count": 44,
   "id": "4dd2af3e",
   "metadata": {},
   "outputs": [
    {
     "data": {
      "text/plain": [
       "3"
      ]
     },
     "metadata": {},
     "output_type": "display_data"
    },
    {
     "data": {
      "text/plain": [
       "1"
      ]
     },
     "metadata": {},
     "output_type": "display_data"
    }
   ],
   "source": [
    "tup1=(1,2,3)\n",
    "\n",
    "display(max(tup1),\n",
    "\n",
    "min(tup1))"
   ]
  },
  {
   "cell_type": "markdown",
   "id": "702ec5a6",
   "metadata": {},
   "source": [
    "# modifiying list"
   ]
  },
  {
   "cell_type": "code",
   "execution_count": 152,
   "id": "c31dd262",
   "metadata": {},
   "outputs": [],
   "source": [
    "l1=[4,9.2,\"x\",\"s\"]"
   ]
  },
  {
   "cell_type": "code",
   "execution_count": 153,
   "id": "60158585",
   "metadata": {},
   "outputs": [],
   "source": [
    "l1[0]=40"
   ]
  },
  {
   "cell_type": "code",
   "execution_count": 154,
   "id": "b45867e2",
   "metadata": {},
   "outputs": [
    {
     "data": {
      "text/plain": [
       "[40, 9.2, 'x', 's']"
      ]
     },
     "execution_count": 154,
     "metadata": {},
     "output_type": "execute_result"
    }
   ],
   "source": [
    "l1"
   ]
  },
  {
   "cell_type": "code",
   "execution_count": 155,
   "id": "d68bcc79",
   "metadata": {},
   "outputs": [
    {
     "data": {
      "text/plain": [
       "'s'"
      ]
     },
     "execution_count": 155,
     "metadata": {},
     "output_type": "execute_result"
    }
   ],
   "source": [
    "l1.pop()"
   ]
  },
  {
   "cell_type": "code",
   "execution_count": 156,
   "id": "2e3d8afe",
   "metadata": {},
   "outputs": [
    {
     "data": {
      "text/plain": [
       "[40, 9.2, 'x']"
      ]
     },
     "execution_count": 156,
     "metadata": {},
     "output_type": "execute_result"
    }
   ],
   "source": [
    "l1"
   ]
  },
  {
   "cell_type": "code",
   "execution_count": 157,
   "id": "fe3f3c2b",
   "metadata": {},
   "outputs": [],
   "source": [
    "l1.append(\"vaibhav\")\n"
   ]
  },
  {
   "cell_type": "code",
   "execution_count": 158,
   "id": "adfdf4a1",
   "metadata": {},
   "outputs": [
    {
     "data": {
      "text/plain": [
       "[40, 9.2, 'x', 'vaibhav']"
      ]
     },
     "execution_count": 158,
     "metadata": {},
     "output_type": "execute_result"
    }
   ],
   "source": [
    "l1"
   ]
  },
  {
   "cell_type": "code",
   "execution_count": 159,
   "id": "eca89cbe",
   "metadata": {},
   "outputs": [
    {
     "data": {
      "text/plain": [
       "list"
      ]
     },
     "execution_count": 159,
     "metadata": {},
     "output_type": "execute_result"
    }
   ],
   "source": [
    "type(l1)"
   ]
  },
  {
   "cell_type": "code",
   "execution_count": 160,
   "id": "836cbd1c",
   "metadata": {},
   "outputs": [],
   "source": [
    "l1.reverse()"
   ]
  },
  {
   "cell_type": "code",
   "execution_count": 161,
   "id": "fb74c65b",
   "metadata": {},
   "outputs": [
    {
     "data": {
      "text/plain": [
       "['vaibhav', 'x', 9.2, 40]"
      ]
     },
     "execution_count": 161,
     "metadata": {},
     "output_type": "execute_result"
    }
   ],
   "source": [
    "l1"
   ]
  },
  {
   "cell_type": "code",
   "execution_count": 177,
   "id": "9a01114b",
   "metadata": {},
   "outputs": [],
   "source": [
    "l2=[\"x\",\"p\",\"M\"]"
   ]
  },
  {
   "cell_type": "code",
   "execution_count": 165,
   "id": "1391f1aa",
   "metadata": {},
   "outputs": [],
   "source": [
    "l2.sort()"
   ]
  },
  {
   "cell_type": "code",
   "execution_count": 178,
   "id": "2aefb27f",
   "metadata": {},
   "outputs": [
    {
     "data": {
      "text/plain": [
       "['x', 'p', 'M']"
      ]
     },
     "execution_count": 178,
     "metadata": {},
     "output_type": "execute_result"
    }
   ],
   "source": [
    "l2"
   ]
  },
  {
   "cell_type": "code",
   "execution_count": 179,
   "id": "d882f41c",
   "metadata": {},
   "outputs": [],
   "source": [
    "l2.insert(1,\"pankaj\")"
   ]
  },
  {
   "cell_type": "code",
   "execution_count": 180,
   "id": "4851eff9",
   "metadata": {},
   "outputs": [
    {
     "data": {
      "text/plain": [
       "['x', 'pankaj', 'p', 'M']"
      ]
     },
     "execution_count": 180,
     "metadata": {},
     "output_type": "execute_result"
    }
   ],
   "source": [
    "l2"
   ]
  },
  {
   "cell_type": "code",
   "execution_count": 181,
   "id": "508569a9",
   "metadata": {},
   "outputs": [],
   "source": [
    "l2.reverse()"
   ]
  },
  {
   "cell_type": "code",
   "execution_count": 182,
   "id": "7ccbf951",
   "metadata": {},
   "outputs": [
    {
     "data": {
      "text/plain": [
       "['M', 'p', 'pankaj', 'x']"
      ]
     },
     "execution_count": 182,
     "metadata": {},
     "output_type": "execute_result"
    }
   ],
   "source": [
    "l2"
   ]
  },
  {
   "cell_type": "code",
   "execution_count": 183,
   "id": "5fe6b6dc",
   "metadata": {},
   "outputs": [
    {
     "data": {
      "text/plain": [
       "'x'"
      ]
     },
     "execution_count": 183,
     "metadata": {},
     "output_type": "execute_result"
    }
   ],
   "source": [
    "l2.pop(3)"
   ]
  },
  {
   "cell_type": "code",
   "execution_count": 184,
   "id": "2c7b9b92",
   "metadata": {},
   "outputs": [
    {
     "data": {
      "text/plain": [
       "['M', 'p', 'pankaj']"
      ]
     },
     "execution_count": 184,
     "metadata": {},
     "output_type": "execute_result"
    }
   ],
   "source": [
    "l2"
   ]
  },
  {
   "cell_type": "code",
   "execution_count": 186,
   "id": "9a78312a",
   "metadata": {},
   "outputs": [],
   "source": [
    "l2.append(\"client\")"
   ]
  },
  {
   "cell_type": "code",
   "execution_count": 187,
   "id": "4f4b643b",
   "metadata": {},
   "outputs": [
    {
     "data": {
      "text/plain": [
       "['M', 'p', 'pankaj', 'client']"
      ]
     },
     "execution_count": 187,
     "metadata": {},
     "output_type": "execute_result"
    }
   ],
   "source": [
    "l2"
   ]
  },
  {
   "cell_type": "code",
   "execution_count": 190,
   "id": "6d565951",
   "metadata": {},
   "outputs": [
    {
     "data": {
      "text/plain": [
       "'pankaj'"
      ]
     },
     "execution_count": 190,
     "metadata": {},
     "output_type": "execute_result"
    }
   ],
   "source": [
    "l2.pop(1)"
   ]
  },
  {
   "cell_type": "code",
   "execution_count": 191,
   "id": "87a6ee05",
   "metadata": {},
   "outputs": [
    {
     "data": {
      "text/plain": [
       "['p', 'client']"
      ]
     },
     "execution_count": 191,
     "metadata": {},
     "output_type": "execute_result"
    }
   ],
   "source": [
    "l2"
   ]
  },
  {
   "cell_type": "markdown",
   "id": "1b23b651",
   "metadata": {},
   "source": [
    "# dictionary"
   ]
  },
  {
   "cell_type": "code",
   "execution_count": 193,
   "id": "ec396774",
   "metadata": {},
   "outputs": [
    {
     "data": {
      "text/plain": [
       "dict_keys(['apple', 'orange'])"
      ]
     },
     "execution_count": 193,
     "metadata": {},
     "output_type": "execute_result"
    }
   ],
   "source": [
    "f1={\"apple\":10,\"orange\":60}\n",
    "f1.keys()"
   ]
  },
  {
   "cell_type": "code",
   "execution_count": 195,
   "id": "b2af8654",
   "metadata": {},
   "outputs": [
    {
     "data": {
      "text/plain": [
       "dict_values([10, 60])"
      ]
     },
     "execution_count": 195,
     "metadata": {},
     "output_type": "execute_result"
    }
   ],
   "source": [
    "f1.values()"
   ]
  },
  {
   "cell_type": "code",
   "execution_count": 196,
   "id": "87b4c51f",
   "metadata": {},
   "outputs": [],
   "source": [
    "f2={\"banana\":30,\"mangoes\":90}"
   ]
  },
  {
   "cell_type": "code",
   "execution_count": 197,
   "id": "5e6406c5",
   "metadata": {},
   "outputs": [
    {
     "data": {
      "text/plain": [
       "{'banana': 30, 'mangoes': 90}"
      ]
     },
     "execution_count": 197,
     "metadata": {},
     "output_type": "execute_result"
    }
   ],
   "source": [
    "f2"
   ]
  },
  {
   "cell_type": "code",
   "execution_count": 198,
   "id": "28371480",
   "metadata": {},
   "outputs": [],
   "source": [
    "f1.update(f2)"
   ]
  },
  {
   "cell_type": "code",
   "execution_count": 199,
   "id": "e6a2912c",
   "metadata": {},
   "outputs": [
    {
     "data": {
      "text/plain": [
       "{'apple': 10, 'orange': 60, 'banana': 30, 'mangoes': 90}"
      ]
     },
     "execution_count": 199,
     "metadata": {},
     "output_type": "execute_result"
    }
   ],
   "source": [
    "f1"
   ]
  },
  {
   "cell_type": "code",
   "execution_count": 200,
   "id": "db4cefe1",
   "metadata": {},
   "outputs": [
    {
     "data": {
      "text/plain": [
       "30"
      ]
     },
     "execution_count": 200,
     "metadata": {},
     "output_type": "execute_result"
    }
   ],
   "source": [
    "f1.pop(\"banana\")"
   ]
  },
  {
   "cell_type": "code",
   "execution_count": 205,
   "id": "ed0d13bc",
   "metadata": {},
   "outputs": [
    {
     "data": {
      "text/plain": [
       "{'apple': 10, 'orange': 60, 'mangoes': 90}"
      ]
     },
     "execution_count": 205,
     "metadata": {},
     "output_type": "execute_result"
    }
   ],
   "source": [
    "f1"
   ]
  },
  {
   "cell_type": "code",
   "execution_count": 206,
   "id": "6712b7a7",
   "metadata": {},
   "outputs": [],
   "source": [
    "f1[\"potato\"]=50"
   ]
  },
  {
   "cell_type": "code",
   "execution_count": 207,
   "id": "0576af0a",
   "metadata": {},
   "outputs": [
    {
     "data": {
      "text/plain": [
       "{'apple': 10, 'orange': 60, 'mangoes': 90, 'potato': 50}"
      ]
     },
     "execution_count": 207,
     "metadata": {},
     "output_type": "execute_result"
    }
   ],
   "source": [
    "f1"
   ]
  },
  {
   "cell_type": "code",
   "execution_count": 208,
   "id": "52154180",
   "metadata": {},
   "outputs": [],
   "source": [
    "f1[\"potato\"]=60"
   ]
  },
  {
   "cell_type": "code",
   "execution_count": 209,
   "id": "51c06d79",
   "metadata": {},
   "outputs": [
    {
     "data": {
      "text/plain": [
       "{'apple': 10, 'orange': 60, 'mangoes': 90, 'potato': 60}"
      ]
     },
     "execution_count": 209,
     "metadata": {},
     "output_type": "execute_result"
    }
   ],
   "source": [
    "f1"
   ]
  }
 ],
 "metadata": {
  "kernelspec": {
   "display_name": "Python 3 (ipykernel)",
   "language": "python",
   "name": "python3"
  },
  "language_info": {
   "codemirror_mode": {
    "name": "ipython",
    "version": 3
   },
   "file_extension": ".py",
   "mimetype": "text/x-python",
   "name": "python",
   "nbconvert_exporter": "python",
   "pygments_lexer": "ipython3",
   "version": "3.10.4"
  },
  "toc": {
   "base_numbering": 1,
   "nav_menu": {},
   "number_sections": true,
   "sideBar": true,
   "skip_h1_title": false,
   "title_cell": "Table of Contents",
   "title_sidebar": "Contents",
   "toc_cell": false,
   "toc_position": {},
   "toc_section_display": true,
   "toc_window_display": false
  }
 },
 "nbformat": 4,
 "nbformat_minor": 5
}

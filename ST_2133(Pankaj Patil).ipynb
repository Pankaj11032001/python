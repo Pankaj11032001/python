{
 "cells": [
  {
   "cell_type": "markdown",
   "id": "94378a31",
   "metadata": {},
   "source": [
    "## Cramer's Rule"
   ]
  },
  {
   "cell_type": "markdown",
   "id": "8790e207",
   "metadata": {},
   "source": [
    "1. Solve the following systems of linear equations using Cramer’s rule.\n",
    "\n",
    "\n",
    "(a) 2x1 − x2 + x3 = −3,x1 + x2 −3x3 = 17, 5x1 −2x2 −4x3 = 20\n",
    "\n",
    "(b) 2x1 +3x2 − x3 = 4,x1 +4x2 + x3 = −1, 5x1 − x2 +2x3 = 1\n",
    "\n",
    "(c) −x1 +2x2 +4x3 −2x4 +3x5 = 24, 20x1 +5x2 +3x3 −2x4 − x5 = 29,2x1 +18x2 +60x3 +5x4 −3x5 = 177, 2x1 +4x2 +4x3 +3x5 = 26\n",
    "\n",
    "(d) 2x1 +3x2 − x3 = 4, x1 +4x2 + x3 = −1, 5x1 − x2 +2x3 = 1, 2x1 +3x2−6x3 +5x4 +4x5 = 0"
   ]
  },
  {
   "cell_type": "code",
   "execution_count": 18,
   "id": "7d7ae0c8",
   "metadata": {},
   "outputs": [],
   "source": [
    "import numpy as np\n",
    "def Cramer(A,b):\n",
    "    import numpy as np\n",
    "    d=np.linalg.det(A)\n",
    "    if(d!=0):\n",
    "        row,col=A.shape\n",
    "        x=[]\n",
    "        for i in range(col):  \n",
    "            C=A.copy()\n",
    "            C[:,i]=b\n",
    "            v=np.linalg.det(C)/np.linalg.det(A)\n",
    "            x.append(round(v))\n",
    "        print(\"The solution of the S.O.E. is:\")\n",
    "        print(x)\n",
    "    else:\n",
    "        print(\"The System has no solution\")"
   ]
  },
  {
   "cell_type": "code",
   "execution_count": 19,
   "id": "2027e114",
   "metadata": {},
   "outputs": [
    {
     "name": "stdout",
     "output_type": "stream",
     "text": [
      "The solution of the S.O.E. is:\n",
      "[2, 3, -4]\n"
     ]
    }
   ],
   "source": [
    "#a)\n",
    "A=np.matrix(\"2,-1,1;1,1,-3;5,-2,-4\")\n",
    "b=np.matrix(\"-3,17,20\").transpose()\n",
    "Cramer(A,b)"
   ]
  },
  {
   "cell_type": "code",
   "execution_count": 20,
   "id": "3172efdb",
   "metadata": {},
   "outputs": [
    {
     "name": "stdout",
     "output_type": "stream",
     "text": [
      "The solution of the S.O.E. is:\n",
      "[1, 0, -2]\n"
     ]
    }
   ],
   "source": [
    "#b)\n",
    "A=np.matrix(\"2,3,-1;1,4,1;5,-1,2\")\n",
    "b=np.matrix(\"4,-1,1\").transpose()\n",
    "Cramer(A,b)"
   ]
  },
  {
   "cell_type": "code",
   "execution_count": 25,
   "id": "7d854bc5",
   "metadata": {
    "scrolled": true
   },
   "outputs": [
    {
     "name": "stdout",
     "output_type": "stream",
     "text": [
      "The solution of the S.O.E. is:\n",
      "[2, -3, 4, 1, 6]\n"
     ]
    }
   ],
   "source": [
    "#c)\n",
    "A=np.matrix(\"-1,2,4,-2,3;20,5,3,-2,-1;2,18,60,5,-3;2,4,4,0,3;2,3,-6,5,4\")\n",
    "b=np.matrix(\"24,29,177,26,0\").transpose()\n",
    "Cramer(A,b)"
   ]
  },
  {
   "cell_type": "markdown",
   "id": "adb0dabe",
   "metadata": {},
   "source": [
    "## g-Inverse of the Non Full Rank Matrix"
   ]
  },
  {
   "cell_type": "code",
   "execution_count": 33,
   "id": "5d701d19",
   "metadata": {},
   "outputs": [],
   "source": [
    "import numpy as np\n",
    "A=np.array([[1,2,3],[4,5,6],[7,8,9]])"
   ]
  },
  {
   "cell_type": "code",
   "execution_count": 34,
   "id": "c2d7ff7d",
   "metadata": {},
   "outputs": [
    {
     "name": "stdout",
     "output_type": "stream",
     "text": [
      "Rank of the matrix is:  2\n",
      "The g-Inverse of the Matrix is:\n",
      " [[-1.  0.  0.]\n",
      " [ 0.  0.  0.]\n",
      " [ 1.  0. -0.]]\n"
     ]
    }
   ],
   "source": [
    "A=np.matrix(\"1,2,3;4,5,6;7,8,9\")\n",
    "r=np.linalg.matrix_rank(A)\n",
    "print(\"Rank of the matrix is: \",r)\n",
    "m,n=A.shape\n",
    "G=np.zeros((m,n))\n",
    "B=A[np.ix_([0,r],[0,r])]\n",
    "r1=np.linalg.matrix_rank(B)\n",
    "if(r==r1):\n",
    "    G[np.ix_([0,r],[0,r])]=np.linalg.inv(B).T\n",
    "    G=G.T\n",
    "print(\"The g-Inverse of the Matrix is:\\n\" ,np.round(G))"
   ]
  },
  {
   "cell_type": "markdown",
   "id": "e065f949",
   "metadata": {},
   "source": [
    "# Verify the Properties of the g_Inverse"
   ]
  },
  {
   "cell_type": "code",
   "execution_count": 36,
   "id": "f0c2da27",
   "metadata": {},
   "outputs": [
    {
     "name": "stdout",
     "output_type": "stream",
     "text": [
      "Property Satisfied\n"
     ]
    }
   ],
   "source": [
    "#AGA=A\n",
    "if(np.round(A@G@A)).any():\n",
    "    print(\"Property Satisfied\")\n",
    "else:\n",
    "    print(\"Property Not Satisfied\")"
   ]
  },
  {
   "cell_type": "code",
   "execution_count": 37,
   "id": "8cda183f",
   "metadata": {},
   "outputs": [
    {
     "name": "stdout",
     "output_type": "stream",
     "text": [
      "Property not Satisfied\n"
     ]
    }
   ],
   "source": [
    "#trace(AG)=trace(GA)=rank(A)\n",
    "if np.trace(A@G)==round(np.trace(G@A))==np.linalg.matrix_rank(A):\n",
    "    print(\"Property Satisfied\")\n",
    "else:\n",
    "    print(\"Property not Satisfied\")"
   ]
  },
  {
   "cell_type": "code",
   "execution_count": 38,
   "id": "31ee3bb7",
   "metadata": {},
   "outputs": [
    {
     "name": "stdout",
     "output_type": "stream",
     "text": [
      "[[5 6 7]\n",
      " [1 2 3]\n",
      " [4 7 2]]\n"
     ]
    }
   ],
   "source": [
    "A=np.random.randint(1,9,(3,3))\n",
    "print(A)"
   ]
  },
  {
   "cell_type": "markdown",
   "id": "e937bc53",
   "metadata": {},
   "source": [
    "# Properties of matrix"
   ]
  },
  {
   "cell_type": "code",
   "execution_count": 39,
   "id": "bcc0dbed",
   "metadata": {},
   "outputs": [],
   "source": [
    "def Properties(A):\n",
    "    row,col=A.shape\n",
    "    print(\"The given Matrix is \\n\",A)\n",
    "    print(\"The Determinant Of the Matrix is\",round(np.linalg.det(A)))\n",
    "    print(\"The Rank of the Matrix is: \",np.linalg.matrix_rank(A ))\n",
    "    if row==col:\n",
    "        print(\"The given Matrix is Square Matrix\")\n",
    "    else:\n",
    "        print(\"The given Matrix is Not Square Matrix\")\n",
    "    \n",
    "    if (A.T==A).all():\n",
    "        print(\"The given Matrix is Symmetric Matrix\")\n",
    "    else:\n",
    "        print(\"The given Matrix is Not Symmetric Matrix\")\n",
    "    if (np.linalg.det(A)!=0).all():\n",
    "        print(\"The given Matrix is Not Singular Matrix\")\n",
    "    else:\n",
    "        print(\"The given Matrix is Non Singular Matrix\")\n",
    "    if (np.linalg.inv(A)==A.T).all():\n",
    "        print(\"The given Matrix is Orthogonal Matrix\")\n",
    "    else:\n",
    "        print(\"The given Matrix is Not Orthogonal Matrix\")\n",
    "    if (A@A==A).all():\n",
    "        print(\"The given Matrix is Idempotent Matrix\")\n",
    "    else:\n",
    "        print(\"The given Matrix is Not Idempotent Matrix\")\n",
    "        "
   ]
  },
  {
   "cell_type": "code",
   "execution_count": 40,
   "id": "9f78b76c",
   "metadata": {},
   "outputs": [
    {
     "name": "stdout",
     "output_type": "stream",
     "text": [
      "The given Matrix is \n",
      " [[5 6 7]\n",
      " [1 2 3]\n",
      " [4 7 2]]\n",
      "The Determinant Of the Matrix is -32\n",
      "The Rank of the Matrix is:  3\n",
      "The given Matrix is Square Matrix\n",
      "The given Matrix is Not Symmetric Matrix\n",
      "The given Matrix is Not Singular Matrix\n",
      "The given Matrix is Not Orthogonal Matrix\n",
      "The given Matrix is Not Idempotent Matrix\n"
     ]
    }
   ],
   "source": [
    "Properties(A)"
   ]
  },
  {
   "cell_type": "markdown",
   "id": "1549ccbe",
   "metadata": {},
   "source": [
    "# Solution Of Systems Of Linear Equations"
   ]
  },
  {
   "cell_type": "code",
   "execution_count": 41,
   "id": "cef27e54",
   "metadata": {},
   "outputs": [
    {
     "name": "stdout",
     "output_type": "stream",
     "text": [
      "0\n",
      "-16\n"
     ]
    }
   ],
   "source": [
    "import numpy as np\n",
    "A=np.matrix(\"2,-1,1;1,1,-3;5,-2,-4\")\n",
    "A1=np.matrix(\"1,2,3;4,5,6;7,8,9\")\n",
    "b=np.matrix(\"-3,17,20\").transpose()\n",
    "print(round(np.linalg.det(A1)))\n",
    "print(round(np.linalg.det(A)))"
   ]
  },
  {
   "cell_type": "code",
   "execution_count": 43,
   "id": "17c35fc6",
   "metadata": {},
   "outputs": [],
   "source": [
    "def SLE(A,b):\n",
    "    if round(np.linalg.det(A))==0:\n",
    "        r=np.linalg.matrix_rank(A)\n",
    "        print(\"Rank of the matrix is: \",r)\n",
    "        m,n=A.shape\n",
    "        G=np.zeros((m,n))\n",
    "        B=A[np.ix_([0,r],[0,r])]\n",
    "        r1=np.linalg.matrix_rank(B)\n",
    "        if(r==r1):\n",
    "            G[np.ix_([0,r],[0,r])]=np.linalg.inv(B).T\n",
    "            G=G.T\n",
    "        print(\"The g-Inverse of the Matrix is:\\n\" ,G)\n",
    "        print(\"\\nThe System has Infinite solutions\")\n",
    "        z1=np.random.rand(n,1)*10\n",
    "        z2=np.random.rand(n,1)*10\n",
    "        I=np.eye(n)\n",
    "        print(\"first solution of SLE:\\n\",np.round(G*b+(I-G*A)*z1))\n",
    "        print(\"Second solution of SLE:\\n\",np.round(G*b+(I-G*A)*z2))\n",
    "    else:\n",
    "        Inv=np.linalg.inv(A)\n",
    "        #AX=b\n",
    "        #X=inv(A)*b\n",
    "        s=np.linalg.inv(A)*b\n",
    "        print(\"The unique solution of  SLE is\\n:\",np.round(s))\n",
    "        "
   ]
  },
  {
   "cell_type": "code",
   "execution_count": 44,
   "id": "22e03ed7",
   "metadata": {},
   "outputs": [
    {
     "name": "stdout",
     "output_type": "stream",
     "text": [
      "The unique solution of  SLE is\n",
      ": [[ 2.]\n",
      " [ 3.]\n",
      " [-4.]]\n"
     ]
    }
   ],
   "source": [
    "SLE(A,b)"
   ]
  },
  {
   "cell_type": "code",
   "execution_count": 45,
   "id": "dc2b198d",
   "metadata": {},
   "outputs": [
    {
     "name": "stdout",
     "output_type": "stream",
     "text": [
      "Rank of the matrix is:  2\n",
      "The g-Inverse of the Matrix is:\n",
      " [[-0.75        0.          0.25      ]\n",
      " [ 0.          0.          0.        ]\n",
      " [ 0.58333333  0.         -0.08333333]]\n",
      "\n",
      "The System has Infinite solutions\n",
      "first solution of SLE:\n",
      " [[ 3.]\n",
      " [ 9.]\n",
      " [-8.]]\n",
      "Second solution of SLE:\n",
      " [[ 7.]\n",
      " [ 1.]\n",
      " [-4.]]\n"
     ]
    }
   ],
   "source": [
    "SLE(A1,b)"
   ]
  },
  {
   "cell_type": "markdown",
   "id": "90ba7df5",
   "metadata": {},
   "source": [
    "# Using Spectral Decomposition Find the Power of the matrix"
   ]
  },
  {
   "cell_type": "code",
   "execution_count": 4,
   "id": "6d74e7e1",
   "metadata": {},
   "outputs": [
    {
     "name": "stdout",
     "output_type": "stream",
     "text": [
      "[[6. 0. 0.]\n",
      " [0. 2. 0.]\n",
      " [0. 0. 3.]]\n"
     ]
    }
   ],
   "source": [
    "import numpy as np\n",
    "A=np.array([[3,-1,1],[-1,5,-1],[1,-1,3]])\n",
    "P,L=np.linalg.eig(A)\n",
    "E=np.diagflat(np.linalg.eigvals(A))\n",
    "print(E)"
   ]
  },
  {
   "cell_type": "markdown",
   "id": "3661dc35",
   "metadata": {},
   "source": [
    "or"
   ]
  },
  {
   "cell_type": "code",
   "execution_count": 5,
   "id": "728f897e",
   "metadata": {},
   "outputs": [
    {
     "name": "stdout",
     "output_type": "stream",
     "text": [
      "[[6. 0. 0.]\n",
      " [0. 2. 0.]\n",
      " [0. 0. 3.]]\n"
     ]
    }
   ],
   "source": [
    "E=np.diag(list(np.linalg.eigvals(A)))\n",
    "print(E)"
   ]
  },
  {
   "cell_type": "code",
   "execution_count": 6,
   "id": "7478aea8",
   "metadata": {},
   "outputs": [
    {
     "data": {
      "text/plain": [
       "array([[11., -9.,  7.],\n",
       "       [-9., 27., -9.],\n",
       "       [ 7., -9., 11.]])"
      ]
     },
     "execution_count": 6,
     "metadata": {},
     "output_type": "execute_result"
    }
   ],
   "source": [
    "def SDT_Power(A,c):\n",
    "    import numpy as np\n",
    "    P,L=np.linalg.eig(A)\n",
    "    E=np.diag(list(np.linalg.eigvals(A)))\n",
    "    return np.round(L@E**c@L.T)\n",
    "SDT_Power(A,2) #A^2"
   ]
  },
  {
   "cell_type": "code",
   "execution_count": 7,
   "id": "c0ac5afa",
   "metadata": {},
   "outputs": [
    {
     "data": {
      "text/plain": [
       "array([[ 47449., -92583.,  47321.],\n",
       "       [-92583., 187353., -92583.],\n",
       "       [ 47321., -92583.,  47449.]])"
      ]
     },
     "execution_count": 7,
     "metadata": {},
     "output_type": "execute_result"
    }
   ],
   "source": [
    "SDT_Power(A,7) #A^7"
   ]
  },
  {
   "cell_type": "code",
   "execution_count": 8,
   "id": "b43d26e9",
   "metadata": {},
   "outputs": [
    {
     "data": {
      "text/plain": [
       "array([[ 2., -0.,  0.],\n",
       "       [-0.,  2., -0.],\n",
       "       [ 0., -0.,  2.]])"
      ]
     },
     "execution_count": 8,
     "metadata": {},
     "output_type": "execute_result"
    }
   ],
   "source": [
    "SDT_Power(A,1/2) #A^0.5"
   ]
  },
  {
   "cell_type": "code",
   "execution_count": 9,
   "id": "a1c5f44e",
   "metadata": {},
   "outputs": [
    {
     "data": {
      "text/plain": [
       "array([[ 6., -3.,  3.],\n",
       "       [-3., 12., -3.],\n",
       "       [ 3., -3.,  6.]])"
      ]
     },
     "execution_count": 9,
     "metadata": {},
     "output_type": "execute_result"
    }
   ],
   "source": [
    "SDT_Power(A,3/2) #A^1.5"
   ]
  },
  {
   "cell_type": "markdown",
   "id": "330daa7a",
   "metadata": {},
   "source": [
    "# GSO(Gram_Smith_Orthogonalization)"
   ]
  },
  {
   "cell_type": "code",
   "execution_count": 10,
   "id": "ad9de378",
   "metadata": {},
   "outputs": [],
   "source": [
    "x1=np.array([3,1,-1,3])\n",
    "x2=np.array([-5,1,5,-7])\n",
    "x3=np.array([1,1,-2,8])"
   ]
  },
  {
   "cell_type": "code",
   "execution_count": 11,
   "id": "c40b0390",
   "metadata": {},
   "outputs": [],
   "source": [
    "import numpy as np\n",
    "\n",
    "def GSO3(x1,x2,x3):\n",
    "    import pandas as pd\n",
    "    import numpy as np\n",
    "    z1=x1\n",
    "    z2=x2-(np.inner(x2,z1)/np.inner(z1,z1)*z1)\n",
    "    z3=x3-(np.inner(x3,z1)/np.inner(z1,z1)*z1)-(np.inner(x3,z2)/np.inner(z2,z2)*z2)\n",
    "    \n",
    "    print(\"Orthogonal:\\n\",z1,z2,z3,\"\\nOrthonormal\\n:\",z1/np.linalg.norm(z1),z2/np.linalg.norm(z2),z3/np.linalg.norm(z3))\n",
    "    "
   ]
  },
  {
   "cell_type": "code",
   "execution_count": 12,
   "id": "7633639a",
   "metadata": {},
   "outputs": [
    {
     "name": "stdout",
     "output_type": "stream",
     "text": [
      "Orthogonal:\n",
      " [ 3  1 -1  3] [ 1.  3.  3. -1.] [-3.  1.  1.  3.] \n",
      "Orthonormal\n",
      ": [ 0.67082039  0.2236068  -0.2236068   0.67082039] [ 0.2236068   0.67082039  0.67082039 -0.2236068 ] [-0.67082039  0.2236068   0.2236068   0.67082039]\n"
     ]
    }
   ],
   "source": [
    "GSO3(x1,x2,x3)"
   ]
  },
  {
   "cell_type": "code",
   "execution_count": 13,
   "id": "cb4ccb3d",
   "metadata": {
    "scrolled": true
   },
   "outputs": [
    {
     "name": "stdout",
     "output_type": "stream",
     "text": [
      "[[1 1 0 0]\n",
      " [1 1 1 1]\n",
      " [1 0 0 1]\n",
      " [0 1 1 0]]\n"
     ]
    }
   ],
   "source": [
    "np.random.seed(1)\n",
    "x=np.random.randint(0,2,(4,4))\n",
    "print(x)"
   ]
  },
  {
   "cell_type": "code",
   "execution_count": 14,
   "id": "be6e40cb",
   "metadata": {},
   "outputs": [],
   "source": [
    "x1=x[:,0]\n",
    "x2=x[:,1]\n",
    "x3=x[:,2]\n",
    "x4=x[:,3]\n"
   ]
  },
  {
   "cell_type": "code",
   "execution_count": 15,
   "id": "9f1f4781",
   "metadata": {},
   "outputs": [],
   "source": [
    "def GSO4(x1,x2,x3,x4):\n",
    "    import pandas as pd\n",
    "    import numpy as np\n",
    "    z1=x1\n",
    "    z2=x2-(np.inner(x2,z1)/np.inner(z1,z1)*z1)\n",
    "    z3=x3-(np.inner(x3,z1)/np.inner(z1,z1)*z1)-(np.inner(x3,z2)/np.inner(z2,z2)*z2)\n",
    "    z4=x4-(np.inner(x4,z1)/np.inner(z1,z1)*z1)-(np.inner(x4,z2)/np.inner(z2,z2)*z2)-(np.inner(x4,z3)/np.inner(z3,z3)*z3)\n",
    "    l=[np.round(z1),np.round(z2),np.round(z3),np.round(z4)]\n",
    "    l1=[z1/np.linalg.norm(z1),z2/np.linalg.norm(z2),z3/np.linalg.norm(z3),z4/np.linalg.norm(z4)]\n",
    "    l2=[]\n",
    "    for i in l1:\n",
    "        l2.append(np.round(i))\n",
    "    print(\"Orthogonal: \\n\",l,\"\\nOrthonormal: \\n\",l2)"
   ]
  },
  {
   "cell_type": "code",
   "execution_count": 16,
   "id": "a5073a19",
   "metadata": {},
   "outputs": [
    {
     "name": "stdout",
     "output_type": "stream",
     "text": [
      "Orthogonal: \n",
      " [array([1, 1, 1, 0]), array([ 0.,  0., -1.,  1.]), array([-1.,  0.,  0.,  0.]), array([ 0., -0., -0.,  0.])] \n",
      "Orthonormal: \n",
      " [array([1., 1., 1., 0.]), array([ 0.,  0., -1.,  1.]), array([-1.,  1.,  0.,  0.]), array([ 1., -0., -0.,  0.])]\n"
     ]
    }
   ],
   "source": [
    "GSO4(x1,x2,x3,x4)"
   ]
  },
  {
   "cell_type": "markdown",
   "id": "764b87b5",
   "metadata": {},
   "source": [
    "# Obtain an 4 by 4 orthogonal matrix with all elements in first row equal"
   ]
  },
  {
   "cell_type": "code",
   "execution_count": 17,
   "id": "b139eb25",
   "metadata": {},
   "outputs": [
    {
     "data": {
      "text/plain": [
       "array([[ 0.57735027,  0.        ,  0.57735027,  0.57735027],\n",
       "       [-0.57735027,  0.        ,  0.57735027,  0.57735027],\n",
       "       [ 0.        ,  0.57735027, -0.57735027,  0.57735027],\n",
       "       [ 0.5       ,  0.5       ,  0.5       ,  0.5       ]])"
      ]
     },
     "execution_count": 17,
     "metadata": {},
     "output_type": "execute_result"
    }
   ],
   "source": [
    "x4=[1, 1, 1, 1]\n",
    "x3=[0, 1, -1, 1]\n",
    "x2=[-1, 0, 1, 1]\n",
    "x1=[1, 0, 1, 1]\n",
    "z1=x1/np.linalg.norm(x1)\n",
    "z2=x2/np.linalg.norm(x2)\n",
    "z3=x3/np.linalg.norm(x3)\n",
    "z4=x4/np.linalg.norm(x4)\n",
    "np.array([z1,z2,z3,z4])"
   ]
  },
  {
   "cell_type": "code",
   "execution_count": 18,
   "id": "ec558547",
   "metadata": {},
   "outputs": [
    {
     "data": {
      "text/plain": [
       "array([[ 0.5       ,  0.5       ,  0.5       ,  0.5       ],\n",
       "       [-1.        ,  0.        , -2.        ,  0.        ],\n",
       "       [-1.45      , -0.25      ,  0.35      ,  0.75      ],\n",
       "       [-0.52807018, -0.78070175, -0.90701754,  0.34210526]])"
      ]
     },
     "execution_count": 18,
     "metadata": {},
     "output_type": "execute_result"
    }
   ],
   "source": [
    "y1=z4\n",
    "y2=x3-np.inner(x4,y1)/np.inner(y1,y1)*z4\n",
    "y3=x2-np.inner(x2,y2)/np.inner(y2,y2)*y2-np.inner(x2,y1)/np.inner(y1,y1)*y1\n",
    "y4=x1-np.inner(x1,y1)/np.inner(y1,y1)*y1-np.inner(x1,y2)/np.inner(y2,y2)*y2-np.inner(x1,y3)/np.inner(y3,y3)*y3\n",
    "np.array([y1,y2,y3,y4])"
   ]
  },
  {
   "cell_type": "code",
   "execution_count": null,
   "id": "fb71bfa6",
   "metadata": {},
   "outputs": [],
   "source": []
  }
 ],
 "metadata": {
  "kernelspec": {
   "display_name": "Python 3 (ipykernel)",
   "language": "python",
   "name": "python3"
  },
  "language_info": {
   "codemirror_mode": {
    "name": "ipython",
    "version": 3
   },
   "file_extension": ".py",
   "mimetype": "text/x-python",
   "name": "python",
   "nbconvert_exporter": "python",
   "pygments_lexer": "ipython3",
   "version": "3.10.4"
  }
 },
 "nbformat": 4,
 "nbformat_minor": 5
}

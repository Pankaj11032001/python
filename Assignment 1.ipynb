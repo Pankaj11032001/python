{
 "cells": [
  {
   "cell_type": "markdown",
   "id": "58e3f152",
   "metadata": {
    "slideshow": {
     "slide_type": "slide"
    }
   },
   "source": [
    "# <center> Assignment"
   ]
  },
  {
   "cell_type": "markdown",
   "id": "fb80c705",
   "metadata": {
    "slideshow": {
     "slide_type": "subslide"
    }
   },
   "source": [
    "## Cramer's rule"
   ]
  },
  {
   "cell_type": "markdown",
   "id": "46cde885",
   "metadata": {
    "slideshow": {
     "slide_type": "subslide"
    }
   },
   "source": [
    "## 1. solve the following systems of linear equations using cramer's rule."
   ]
  },
  {
   "cell_type": "markdown",
   "id": "e09d5fe1",
   "metadata": {
    "slideshow": {
     "slide_type": "subslide"
    }
   },
   "source": [
    "$(a)2x_1-x_2+x_3=-3, x_1+x_2-3x_3=17, 5x_1-2x_2-4x_3=20$\n",
    "\n",
    "$(b)2x1+3x2-x3=4, x1+4x2+x3=-1, 5x1-x2+2x3=1$\n",
    "\n",
    "$(c)-x1+2x2+4x3-2x4+3x5=24,    20x1+5x2+3x3-2x4-x5=29,   2x1+18x2+60x3+5x4-3x5=177,   2x1+4x2+4x3+3x5=26$\n",
    "\n",
    "$(d)2x1+3x2-x3=4,   x1+4x2+x3=-1,   5x1-x2-+2x3=1,    2x1+3x2-6x3+5x4+4x5=0$\n",
    "\n"
   ]
  },
  {
   "cell_type": "markdown",
   "id": "2a5267c5",
   "metadata": {
    "slideshow": {
     "slide_type": "slide"
    }
   },
   "source": [
    "## lets create the function whichh solve the system of equation using the cramer's rule"
   ]
  },
  {
   "cell_type": "code",
   "execution_count": 27,
   "id": "5a92da00",
   "metadata": {
    "slideshow": {
     "slide_type": "subslide"
    }
   },
   "outputs": [
    {
     "name": "stdout",
     "output_type": "stream",
     "text": [
      "Requirement already satisfied: scipy in c:\\users\\panka\\appdata\\local\\programs\\python\\python310\\lib\\site-packages (1.8.0)\n",
      "Requirement already satisfied: numpy<1.25.0,>=1.17.3 in c:\\users\\panka\\appdata\\local\\programs\\python\\python310\\lib\\site-packages (from scipy) (1.22.2)\n",
      "Note: you may need to restart the kernel to use updated packages.\n"
     ]
    }
   ],
   "source": [
    "pip install scipy"
   ]
  },
  {
   "cell_type": "code",
   "execution_count": 28,
   "id": "7a388eed",
   "metadata": {
    "slideshow": {
     "slide_type": "subslide"
    }
   },
   "outputs": [],
   "source": [
    "import numpy as np\n",
    "import scipy.linalg as la "
   ]
  },
  {
   "cell_type": "code",
   "execution_count": 29,
   "id": "0d36d0bc",
   "metadata": {
    "slideshow": {
     "slide_type": "slide"
    }
   },
   "outputs": [
    {
     "name": "stdout",
     "output_type": "stream",
     "text": [
      "[[ 2.  0.  0.]\n",
      " [ 6.  1.  0.]\n",
      " [-8.  5.  3.]]\n"
     ]
    }
   ],
   "source": [
    "mat=np.array([[4,12,-16],[12,37,-43],[-16,-43,98]])\n",
    "print(np.linalg.cholesky(mat))"
   ]
  },
  {
   "cell_type": "markdown",
   "id": "0c5ced33",
   "metadata": {},
   "source": [
    "# Solving system of linear equations"
   ]
  },
  {
   "cell_type": "code",
   "execution_count": 30,
   "id": "17abebbb",
   "metadata": {
    "slideshow": {
     "slide_type": "fragment"
    }
   },
   "outputs": [
    {
     "data": {
      "text/plain": [
       "array([ 3.54716981,  3.35849057, -2.24528302])"
      ]
     },
     "execution_count": 30,
     "metadata": {},
     "output_type": "execute_result"
    }
   ],
   "source": [
    "A=np.array([[2,-1,3],[1,2,-3],[5,-2,-4]])\n",
    "b=np.array([-3,17,20])\n",
    "x=np.linalg.solve(A,b)\n",
    "x\n"
   ]
  },
  {
   "cell_type": "code",
   "execution_count": 31,
   "id": "16130b49",
   "metadata": {
    "slideshow": {
     "slide_type": "slide"
    }
   },
   "outputs": [],
   "source": [
    "A=np.array([[2,-1,3],[1,2,-3],[5,-2,-4]])\n",
    "b=np.array([-3,17,20])"
   ]
  },
  {
   "cell_type": "code",
   "execution_count": 32,
   "id": "64b5b4b2",
   "metadata": {
    "slideshow": {
     "slide_type": "subslide"
    }
   },
   "outputs": [],
   "source": [
    "def cramer(A,b):\n",
    "    d=np.linalg.det(A)\n",
    "    if(d!=0):\n",
    "        row,col=A.shape\n",
    "        x=[]\n",
    "        for i in range(col):\n",
    "            c=A.copy()\n",
    "            c[:,i]=b\n",
    "            v=np.linalg.det(c)/np.linalg.det(A)\n",
    "            x.append(round(v))\n",
    "        print(\"The system of linear equation is :\")\n",
    "        print(x)\n",
    "    else: \n",
    "        print(\"The system has no solution :\")\n",
    "\n"
   ]
  },
  {
   "cell_type": "code",
   "execution_count": 33,
   "id": "dcced1b6",
   "metadata": {},
   "outputs": [
    {
     "name": "stdout",
     "output_type": "stream",
     "text": [
      "The system of linear equation is :\n",
      "[4, 3, -2]\n"
     ]
    }
   ],
   "source": [
    "cramer(A,b)"
   ]
  },
  {
   "cell_type": "markdown",
   "id": "652dd4d3",
   "metadata": {
    "slideshow": {
     "slide_type": "slide"
    }
   },
   "source": [
    "# set of vectors"
   ]
  },
  {
   "cell_type": "code",
   "execution_count": 34,
   "id": "5c26f070",
   "metadata": {
    "slideshow": {
     "slide_type": "slide"
    }
   },
   "outputs": [
    {
     "name": "stdout",
     "output_type": "stream",
     "text": [
      "[[1 0 1]\n",
      " [1 1 0]\n",
      " [0 2 1]]\n"
     ]
    }
   ],
   "source": [
    "A=np.array([[1,0,1],[1,1,0],[0,2,1]])\n",
    "print(A)"
   ]
  },
  {
   "cell_type": "code",
   "execution_count": 35,
   "id": "5505e2b3",
   "metadata": {
    "slideshow": {
     "slide_type": "subslide"
    }
   },
   "outputs": [
    {
     "name": "stdout",
     "output_type": "stream",
     "text": [
      "I:  [1 1 0]\n",
      "J:  [0 1 2]\n",
      "Prod:  1\n",
      "Norm i:  1.4142135623730951\n",
      "Norm j:  2.23606797749979\n",
      "Independent\n",
      "I:  [1 1 0]\n",
      "J:  [1 0 1]\n",
      "Prod:  1\n",
      "Norm i:  1.4142135623730951\n",
      "Norm j:  1.4142135623730951\n",
      "Independent\n",
      "I:  [0 1 2]\n",
      "J:  [1 1 0]\n",
      "Prod:  1\n",
      "Norm i:  2.23606797749979\n",
      "Norm j:  1.4142135623730951\n",
      "Independent\n",
      "I:  [0 1 2]\n",
      "J:  [1 0 1]\n",
      "Prod:  2\n",
      "Norm i:  2.23606797749979\n",
      "Norm j:  1.4142135623730951\n",
      "Independent\n",
      "I:  [1 0 1]\n",
      "J:  [1 1 0]\n",
      "Prod:  1\n",
      "Norm i:  1.4142135623730951\n",
      "Norm j:  1.4142135623730951\n",
      "Independent\n",
      "I:  [1 0 1]\n",
      "J:  [0 1 2]\n",
      "Prod:  2\n",
      "Norm i:  1.4142135623730951\n",
      "Norm j:  2.23606797749979\n",
      "Independent\n"
     ]
    }
   ],
   "source": [
    "for i in range(A.shape[0]):\n",
    "    for j in range(A.shape[0]):\n",
    "        if i != j:\n",
    "            inner_product=np.inner( A[:,i], A[:,j] )\n",
    "            norm_i = np.linalg.norm(A[:,i])\n",
    "            norm_j = np.linalg.norm(A[:,j])\n",
    "            print('I: ', A[:,i])\n",
    "            print('J: ', A[:,j])\n",
    "            print('Prod: ',inner_product)\n",
    "            print('Norm i: ' , norm_i)\n",
    "            print('Norm j: ' , norm_j)\n",
    "            if np.abs(inner_product - norm_j * norm_i) < 1E-5:\n",
    "                print('Dependent')\n",
    "            else:print('Independent')"
   ]
  },
  {
   "cell_type": "markdown",
   "id": "b8240d09",
   "metadata": {},
   "source": [
    "# Properties of matrix"
   ]
  },
  {
   "cell_type": "code",
   "execution_count": 36,
   "id": "c506a148",
   "metadata": {},
   "outputs": [],
   "source": [
    "def properties(A):\n",
    "    row,col=A.shape\n",
    "    print(\"The given Matrix is \\n\",A)\n",
    "    print(\"The Determinant of The Matrix is \",round(np.linalg.det(A)))\n",
    "    print(\"The Rank of the Matrix is: \",np.linalg.matrix_rank(A))\n",
    "    if row==col:\n",
    "        print(\"The given Matrix is Square Matrix\")\n",
    "    else:\n",
    "        print(\"The given Matrix is not Square Matrix\")\n",
    "    if (A.T==A).all():\n",
    "        print(\"The given Matrix is Symmetric Matrix\")\n",
    "    else:\n",
    "        print(\"The given Matrix is not Symmetric Matrix\")\n",
    "    if (np.linalg.det(A)!=0).all():\n",
    "        print(\"The given Matrix is singular  Matrix\")\n",
    "    else:\n",
    "        print(\"The given Matrix is Not singular  Matrix\")\n",
    "    if (np.linalg.inv(A)==A.T).all():\n",
    "        print(\"The given Matrix is orthogonal Matrix\")\n",
    "    else:\n",
    "        print(\"The given Matrix is Not Orthogonal Matrix\")\n",
    "    if(A@A==A).all():\n",
    "        print(\"The given Matrix Idempotent Matrix\")\n",
    "    else:\n",
    "        print(\"The given Matrix Not Idempotent Matrix\")"
   ]
  },
  {
   "cell_type": "code",
   "execution_count": 37,
   "id": "514b85b2",
   "metadata": {},
   "outputs": [
    {
     "name": "stdout",
     "output_type": "stream",
     "text": [
      "The given Matrix is \n",
      " [[1 0 1]\n",
      " [1 1 0]\n",
      " [0 2 1]]\n",
      "The Determinant of The Matrix is  3\n",
      "The Rank of the Matrix is:  3\n",
      "The given Matrix is Square Matrix\n",
      "The given Matrix is not Symmetric Matrix\n",
      "The given Matrix is singular  Matrix\n",
      "The given Matrix is Not Orthogonal Matrix\n",
      "The given Matrix Not Idempotent Matrix\n"
     ]
    }
   ],
   "source": [
    "properties(A)"
   ]
  }
 ],
 "metadata": {
  "celltoolbar": "Raw Cell Format",
  "kernelspec": {
   "display_name": "Python 3 (ipykernel)",
   "language": "python",
   "name": "python3"
  },
  "language_info": {
   "codemirror_mode": {
    "name": "ipython",
    "version": 3
   },
   "file_extension": ".py",
   "mimetype": "text/x-python",
   "name": "python",
   "nbconvert_exporter": "python",
   "pygments_lexer": "ipython3",
   "version": "3.10.4"
  },
  "toc": {
   "base_numbering": 1,
   "nav_menu": {},
   "number_sections": true,
   "sideBar": true,
   "skip_h1_title": false,
   "title_cell": "Table of Contents",
   "title_sidebar": "Contents",
   "toc_cell": false,
   "toc_position": {},
   "toc_section_display": true,
   "toc_window_display": false
  }
 },
 "nbformat": 4,
 "nbformat_minor": 5
}

{
 "cells": [
  {
   "cell_type": "code",
   "execution_count": 1,
   "id": "14df38d5",
   "metadata": {},
   "outputs": [
    {
     "name": "stdout",
     "output_type": "stream",
     "text": [
      "Fail to reject Ho with p-value as 0.08\n",
      "End\n",
      "End Outside\n"
     ]
    }
   ],
   "source": [
    "pval=0.08\n",
    "if pval<=0.05:\n",
    "    print(\"Reject Ho with p-value as\", pval)\n",
    "    print(\"Hello\")\n",
    "else:\n",
    "    print(\"Fail to reject Ho with p-value as\", pval)\n",
    "    print(\"End\")\n",
    "print(\"End Outside\")\n"
   ]
  },
  {
   "cell_type": "code",
   "execution_count": 2,
   "id": "09d2148d",
   "metadata": {},
   "outputs": [],
   "source": [
    "#Reserved Keywords\n",
    "#and, if, else, def, break, not, continue, for, goto, import, while, elif, return, print, from, class, with etc\n",
    "\n"
   ]
  },
  {
   "cell_type": "code",
   "execution_count": 3,
   "id": "0428ba05",
   "metadata": {},
   "outputs": [
    {
     "name": "stdout",
     "output_type": "stream",
     "text": [
      "3 4\n"
     ]
    }
   ],
   "source": [
    "x,y=3,4\n",
    "print(x,y)\n"
   ]
  },
  {
   "cell_type": "code",
   "execution_count": 4,
   "id": "1205ae3c",
   "metadata": {},
   "outputs": [
    {
     "name": "stdout",
     "output_type": "stream",
     "text": [
      "1\n",
      "1\n",
      "2\n",
      "3\n"
     ]
    }
   ],
   "source": [
    "x=y=1\n",
    "print(x)\n",
    "print(y)\n",
    "y=2\n",
    "print(y)\n",
    "print(x+y)\n"
   ]
  },
  {
   "cell_type": "code",
   "execution_count": 5,
   "id": "f6292b2d",
   "metadata": {},
   "outputs": [
    {
     "data": {
      "text/plain": [
       "(1, -2, 0)"
      ]
     },
     "execution_count": 5,
     "metadata": {},
     "output_type": "execute_result"
    }
   ],
   "source": [
    "int_1,int_2,int_3=1, -2, 0\n",
    "int_1,int_2,int_3\n"
   ]
  },
  {
   "cell_type": "code",
   "execution_count": 6,
   "id": "979aef05",
   "metadata": {},
   "outputs": [
    {
     "data": {
      "text/plain": [
       "3.1454373367"
      ]
     },
     "execution_count": 6,
     "metadata": {},
     "output_type": "execute_result"
    }
   ],
   "source": [
    "float_1=3.1454373367\n",
    "float_1\n"
   ]
  },
  {
   "cell_type": "code",
   "execution_count": 7,
   "id": "8f11e9c9",
   "metadata": {},
   "outputs": [
    {
     "data": {
      "text/plain": [
       "3.14544"
      ]
     },
     "execution_count": 7,
     "metadata": {},
     "output_type": "execute_result"
    }
   ],
   "source": [
    "round(float_1,5)"
   ]
  },
  {
   "cell_type": "code",
   "execution_count": 8,
   "id": "cb8cfb7b",
   "metadata": {},
   "outputs": [
    {
     "data": {
      "text/plain": [
       "124325849879460000005165156616543"
      ]
     },
     "execution_count": 8,
     "metadata": {},
     "output_type": "execute_result"
    }
   ],
   "source": [
    "Long_1=124325849879460000005165156616543   # Long Number ????\n",
    "Long_1\n"
   ]
  },
  {
   "cell_type": "code",
   "execution_count": 9,
   "id": "9b88aef4",
   "metadata": {},
   "outputs": [
    {
     "data": {
      "text/plain": [
       "(2+4.34j)"
      ]
     },
     "execution_count": 9,
     "metadata": {},
     "output_type": "execute_result"
    }
   ],
   "source": [
    "complex_1,complex_2=3.14j, 2+1.2j\n",
    "complex_2+complex_1"
   ]
  },
  {
   "cell_type": "code",
   "execution_count": 10,
   "id": "7de167b7",
   "metadata": {},
   "outputs": [
    {
     "data": {
      "text/plain": [
       "'abcdefghij'"
      ]
     },
     "execution_count": 10,
     "metadata": {},
     "output_type": "execute_result"
    }
   ],
   "source": [
    "str=\"abcdefghij\"\n",
    "str\n"
   ]
  },
  {
   "cell_type": "code",
   "execution_count": 11,
   "id": "b47e55e6",
   "metadata": {},
   "outputs": [
    {
     "name": "stdout",
     "output_type": "stream",
     "text": [
      "abcdefghij\n",
      "a\n",
      "abc\n",
      "bcd\n",
      "h\n"
     ]
    }
   ],
   "source": [
    "### indexing and Slicing\n",
    "print(str)       # 0123456789\n",
    "print(str[0])    # 0\n",
    "print(str[0:3])  # 012\n",
    "print(str[1:4])  # 123\n",
    "print(str[-3])   # 7"
   ]
  },
  {
   "cell_type": "code",
   "execution_count": 12,
   "id": "4282018a",
   "metadata": {},
   "outputs": [
    {
     "data": {
      "text/plain": [
       "'Hello Hello Hello '"
      ]
     },
     "execution_count": 12,
     "metadata": {},
     "output_type": "execute_result"
    }
   ],
   "source": [
    "str=\"Hello \"\n",
    "str+str+str\n"
   ]
  },
  {
   "cell_type": "code",
   "execution_count": 13,
   "id": "4ae38529",
   "metadata": {},
   "outputs": [
    {
     "name": "stdout",
     "output_type": "stream",
     "text": [
      "The t-statistics value is 0.45601, so the pvalue is 0.002\n"
     ]
    }
   ],
   "source": [
    "tstat=0.456005498\n",
    "pval=0.002\n",
    "print(\"The t-statistics value is %.5f, so the pvalue is %.3f\"%(tstat,pval))\n"
   ]
  },
  {
   "cell_type": "code",
   "execution_count": 14,
   "id": "5049b3bb",
   "metadata": {},
   "outputs": [
    {
     "name": "stdout",
     "output_type": "stream",
     "text": [
      "pankaj is 0.007,lalit is 0.02\n"
     ]
    }
   ],
   "source": [
    "prol=0.0075\n",
    "lrol=0.02\n",
    "print(\"pankaj is %.3f,lalit is %.2f\"%(prol,lrol))"
   ]
  },
  {
   "cell_type": "code",
   "execution_count": 15,
   "id": "beb81ed5",
   "metadata": {},
   "outputs": [
    {
     "data": {
      "text/plain": [
       "['Manoj', 816, 2009, 'Asst Prof', [2, 3, 4]]"
      ]
     },
     "execution_count": 15,
     "metadata": {},
     "output_type": "execute_result"
    }
   ],
   "source": [
    "list=[\"Manoj\",816,2009,\"Asst Prof\",[2,3,4]]\n",
    "list"
   ]
  },
  {
   "cell_type": "code",
   "execution_count": 16,
   "id": "bbcd3df3",
   "metadata": {},
   "outputs": [
    {
     "data": {
      "text/plain": [
       "1"
      ]
     },
     "execution_count": 16,
     "metadata": {},
     "output_type": "execute_result"
    }
   ],
   "source": [
    "list2=[(\"list\", 23.6)]\n",
    "len(list2)\n"
   ]
  },
  {
   "cell_type": "code",
   "execution_count": 17,
   "id": "7f6084ac",
   "metadata": {},
   "outputs": [],
   "source": [
    "lis = [9,6,13,4,1,82,2,2]"
   ]
  },
  {
   "cell_type": "code",
   "execution_count": 18,
   "id": "f14b20b8",
   "metadata": {},
   "outputs": [
    {
     "data": {
      "text/plain": [
       "2"
      ]
     },
     "execution_count": 18,
     "metadata": {},
     "output_type": "execute_result"
    }
   ],
   "source": [
    "lis.count(2)"
   ]
  },
  {
   "cell_type": "code",
   "execution_count": 19,
   "id": "c015cd36",
   "metadata": {},
   "outputs": [
    {
     "data": {
      "text/plain": [
       "[1, 2, 2, 4, 6, 9, 13, 82]"
      ]
     },
     "execution_count": 19,
     "metadata": {},
     "output_type": "execute_result"
    }
   ],
   "source": [
    "lis.sort()\n",
    "lis"
   ]
  },
  {
   "cell_type": "code",
   "execution_count": 20,
   "id": "a69fc513",
   "metadata": {},
   "outputs": [
    {
     "data": {
      "text/plain": [
       "1"
      ]
     },
     "execution_count": 20,
     "metadata": {},
     "output_type": "execute_result"
    }
   ],
   "source": [
    "list2.count((\"list\",23.6))"
   ]
  },
  {
   "cell_type": "code",
   "execution_count": 21,
   "id": "11d4007e",
   "metadata": {},
   "outputs": [
    {
     "data": {
      "text/plain": [
       "2"
      ]
     },
     "execution_count": 21,
     "metadata": {},
     "output_type": "execute_result"
    }
   ],
   "source": [
    "list2=[list, 23.6]\n",
    "len(list2)\n"
   ]
  },
  {
   "cell_type": "code",
   "execution_count": 22,
   "id": "f223355b",
   "metadata": {},
   "outputs": [
    {
     "data": {
      "text/plain": [
       "'Asst Prof'"
      ]
     },
     "execution_count": 22,
     "metadata": {},
     "output_type": "execute_result"
    }
   ],
   "source": [
    "list[-2]"
   ]
  },
  {
   "cell_type": "code",
   "execution_count": 23,
   "id": "e6c97958",
   "metadata": {},
   "outputs": [
    {
     "data": {
      "text/plain": [
       "15"
      ]
     },
     "execution_count": 23,
     "metadata": {},
     "output_type": "execute_result"
    }
   ],
   "source": [
    "list+list\n",
    "len(list*3)"
   ]
  },
  {
   "cell_type": "code",
   "execution_count": 24,
   "id": "b14e28f7",
   "metadata": {},
   "outputs": [
    {
     "name": "stdout",
     "output_type": "stream",
     "text": [
      "6\n",
      "2\n",
      "[2, 4, 5, 6, 2, 3, 5]\n",
      "11\n",
      "None\n"
     ]
    }
   ],
   "source": [
    "List1=[2,4,5,6,2,3]\n",
    "print(max(List1))\n",
    "print(min(List1))\n",
    "List1.append(5)\n",
    "print(List1)\n",
    "List1.extend([5,8,9,0])\n",
    "print(len(List1))\n",
    "List1=List1.sort()\n",
    "print(List1)"
   ]
  },
  {
   "cell_type": "code",
   "execution_count": 25,
   "id": "f58295c7",
   "metadata": {},
   "outputs": [
    {
     "data": {
      "text/plain": [
       "['Rajaa', 816, 2009, 'Asst Prof', [2, 3, 4]]"
      ]
     },
     "execution_count": 25,
     "metadata": {},
     "output_type": "execute_result"
    }
   ],
   "source": [
    "list\n",
    "list[0]=\"Rajaa\"\n",
    "list"
   ]
  },
  {
   "cell_type": "code",
   "execution_count": 26,
   "id": "a9b2a7af",
   "metadata": {},
   "outputs": [
    {
     "data": {
      "text/plain": [
       "('Manoj', 23, 1.2)"
      ]
     },
     "execution_count": 26,
     "metadata": {},
     "output_type": "execute_result"
    }
   ],
   "source": [
    "tuple1=('Manoj',23,1.2)\n",
    "tuple1"
   ]
  },
  {
   "cell_type": "code",
   "execution_count": 27,
   "id": "538498cc",
   "metadata": {},
   "outputs": [
    {
     "data": {
      "text/plain": [
       "('Manoj', 23, 1.2)"
      ]
     },
     "execution_count": 27,
     "metadata": {},
     "output_type": "execute_result"
    }
   ],
   "source": [
    "tuple1=('Manoj',23,1.2)\n",
    "tuple1"
   ]
  },
  {
   "cell_type": "code",
   "execution_count": 28,
   "id": "79400659",
   "metadata": {},
   "outputs": [],
   "source": [
    "#tuple1[1]=32"
   ]
  },
  {
   "cell_type": "code",
   "execution_count": 29,
   "id": "acc51d21",
   "metadata": {},
   "outputs": [
    {
     "data": {
      "text/plain": [
       "('Manoj', 23, 1.2, 'Manoj', 23, 1.2)"
      ]
     },
     "execution_count": 29,
     "metadata": {},
     "output_type": "execute_result"
    }
   ],
   "source": [
    "tuple1*2"
   ]
  },
  {
   "cell_type": "code",
   "execution_count": 30,
   "id": "e71dda84",
   "metadata": {},
   "outputs": [
    {
     "data": {
      "text/plain": [
       "{'name': 'Manoj', 'Age': 35, 'Edu': 'Stats'}"
      ]
     },
     "execution_count": 30,
     "metadata": {},
     "output_type": "execute_result"
    }
   ],
   "source": [
    "dict1={'name':\"Manoj\",'Age':35,\"Edu\":\"Stats\"}\n",
    "dict1"
   ]
  },
  {
   "cell_type": "code",
   "execution_count": 31,
   "id": "b298e039",
   "metadata": {},
   "outputs": [
    {
     "data": {
      "text/plain": [
       "'Manoj'"
      ]
     },
     "execution_count": 31,
     "metadata": {},
     "output_type": "execute_result"
    }
   ],
   "source": [
    "dict1['name']"
   ]
  },
  {
   "cell_type": "code",
   "execution_count": 32,
   "id": "cebfb22d",
   "metadata": {},
   "outputs": [],
   "source": [
    "# dict1[1]"
   ]
  },
  {
   "cell_type": "code",
   "execution_count": 33,
   "id": "c4d212f5",
   "metadata": {},
   "outputs": [
    {
     "data": {
      "text/plain": [
       "'Stats'"
      ]
     },
     "execution_count": 33,
     "metadata": {},
     "output_type": "execute_result"
    }
   ],
   "source": [
    "dict1['Edu']\n"
   ]
  },
  {
   "cell_type": "code",
   "execution_count": 34,
   "id": "7f318421",
   "metadata": {},
   "outputs": [
    {
     "data": {
      "text/plain": [
       "['Manoj', 35, 'stat']"
      ]
     },
     "execution_count": 34,
     "metadata": {},
     "output_type": "execute_result"
    }
   ],
   "source": [
    "list1=[\"Manoj\",35,'stat']\n",
    "list1"
   ]
  },
  {
   "cell_type": "code",
   "execution_count": 35,
   "id": "a8ec0904",
   "metadata": {},
   "outputs": [
    {
     "data": {
      "text/plain": [
       "[3, 1, 2, 2, 4, 2, 3]"
      ]
     },
     "execution_count": 35,
     "metadata": {},
     "output_type": "execute_result"
    }
   ],
   "source": [
    "list2=[3,1,2]\n",
    "list2+=[2,4,2,3]\n",
    "list2"
   ]
  },
  {
   "cell_type": "code",
   "execution_count": 36,
   "id": "9c9be581",
   "metadata": {},
   "outputs": [],
   "source": [
    "set1=set(list2)\n"
   ]
  },
  {
   "cell_type": "code",
   "execution_count": 37,
   "id": "e51019a7",
   "metadata": {},
   "outputs": [
    {
     "data": {
      "text/plain": [
       "{1, 2, 3, 4}"
      ]
     },
     "execution_count": 37,
     "metadata": {},
     "output_type": "execute_result"
    }
   ],
   "source": [
    "set1"
   ]
  },
  {
   "cell_type": "code",
   "execution_count": null,
   "id": "985b4dce",
   "metadata": {},
   "outputs": [],
   "source": []
  },
  {
   "cell_type": "code",
   "execution_count": null,
   "id": "14b7124c",
   "metadata": {},
   "outputs": [],
   "source": []
  },
  {
   "cell_type": "code",
   "execution_count": 1,
   "id": "68392e5e",
   "metadata": {},
   "outputs": [],
   "source": [
    "x,y=2,3"
   ]
  },
  {
   "cell_type": "code",
   "execution_count": 2,
   "id": "9709269f",
   "metadata": {},
   "outputs": [
    {
     "data": {
      "text/plain": [
       "False"
      ]
     },
     "execution_count": 2,
     "metadata": {},
     "output_type": "execute_result"
    }
   ],
   "source": [
    "x==y"
   ]
  },
  {
   "cell_type": "code",
   "execution_count": 4,
   "id": "ce8f584c",
   "metadata": {},
   "outputs": [
    {
     "data": {
      "text/plain": [
       "True"
      ]
     },
     "execution_count": 4,
     "metadata": {},
     "output_type": "execute_result"
    }
   ],
   "source": [
    "x!=y"
   ]
  },
  {
   "cell_type": "code",
   "execution_count": 5,
   "id": "1c4057b8",
   "metadata": {},
   "outputs": [],
   "source": [
    "#x<>y"
   ]
  },
  {
   "cell_type": "code",
   "execution_count": 6,
   "id": "52399426",
   "metadata": {},
   "outputs": [
    {
     "data": {
      "text/plain": [
       "1.5"
      ]
     },
     "execution_count": 6,
     "metadata": {},
     "output_type": "execute_result"
    }
   ],
   "source": [
    "y/x"
   ]
  },
  {
   "cell_type": "code",
   "execution_count": 7,
   "id": "b9e75649",
   "metadata": {},
   "outputs": [
    {
     "data": {
      "text/plain": [
       "1"
      ]
     },
     "execution_count": 7,
     "metadata": {},
     "output_type": "execute_result"
    }
   ],
   "source": [
    "y//x"
   ]
  },
  {
   "cell_type": "code",
   "execution_count": 27,
   "id": "e90d748f",
   "metadata": {},
   "outputs": [],
   "source": [
    "a,b=100002,100"
   ]
  },
  {
   "cell_type": "code",
   "execution_count": 28,
   "id": "67dc5815",
   "metadata": {},
   "outputs": [
    {
     "data": {
      "text/plain": [
       "1000"
      ]
     },
     "execution_count": 28,
     "metadata": {},
     "output_type": "execute_result"
    }
   ],
   "source": [
    "a//b"
   ]
  },
  {
   "cell_type": "code",
   "execution_count": null,
   "id": "c7a42f9a",
   "metadata": {},
   "outputs": [],
   "source": [
    "y%x"
   ]
  },
  {
   "cell_type": "code",
   "execution_count": 29,
   "id": "b66bb1c1",
   "metadata": {},
   "outputs": [],
   "source": [
    "y+=x"
   ]
  },
  {
   "cell_type": "code",
   "execution_count": 30,
   "id": "fff113bb",
   "metadata": {},
   "outputs": [
    {
     "data": {
      "text/plain": [
       "5"
      ]
     },
     "execution_count": 30,
     "metadata": {},
     "output_type": "execute_result"
    }
   ],
   "source": [
    "y"
   ]
  },
  {
   "cell_type": "code",
   "execution_count": 32,
   "id": "df04ce9a",
   "metadata": {},
   "outputs": [],
   "source": [
    "y=!x"
   ]
  },
  {
   "cell_type": "code",
   "execution_count": null,
   "id": "58dc05c5",
   "metadata": {},
   "outputs": [],
   "source": [
    "x=-34.563529645\n",
    "abs(x)"
   ]
  },
  {
   "cell_type": "code",
   "execution_count": null,
   "id": "8e993d1e",
   "metadata": {},
   "outputs": [],
   "source": [
    "import numpy \n",
    "y=5.6\n",
    "numpy.ceil(y)"
   ]
  },
  {
   "cell_type": "code",
   "execution_count": null,
   "id": "2173b118",
   "metadata": {},
   "outputs": [],
   "source": [
    "import numpy as np\n",
    "x=48.6\n",
    "np.ceil(x)"
   ]
  },
  {
   "cell_type": "code",
   "execution_count": null,
   "id": "f7bb240a",
   "metadata": {},
   "outputs": [],
   "source": [
    "np.exp(3)"
   ]
  },
  {
   "cell_type": "code",
   "execution_count": null,
   "id": "b1b51778",
   "metadata": {},
   "outputs": [],
   "source": [
    "#from numpy import *\n",
    "from numpy import exp"
   ]
  },
  {
   "cell_type": "code",
   "execution_count": null,
   "id": "8fd25e4e",
   "metadata": {},
   "outputs": [],
   "source": [
    "exp(3)"
   ]
  },
  {
   "cell_type": "code",
   "execution_count": null,
   "id": "4047b469",
   "metadata": {},
   "outputs": [],
   "source": [
    "np.ceil(34.5)"
   ]
  }
 ],
 "metadata": {
  "kernelspec": {
   "display_name": "Python 3 (ipykernel)",
   "language": "python",
   "name": "python3"
  },
  "language_info": {
   "codemirror_mode": {
    "name": "ipython",
    "version": 3
   },
   "file_extension": ".py",
   "mimetype": "text/x-python",
   "name": "python",
   "nbconvert_exporter": "python",
   "pygments_lexer": "ipython3",
   "version": "3.10.4"
  },
  "toc": {
   "base_numbering": 1,
   "nav_menu": {},
   "number_sections": true,
   "sideBar": true,
   "skip_h1_title": false,
   "title_cell": "Table of Contents",
   "title_sidebar": "Contents",
   "toc_cell": false,
   "toc_position": {},
   "toc_section_display": true,
   "toc_window_display": false
  }
 },
 "nbformat": 4,
 "nbformat_minor": 5
}

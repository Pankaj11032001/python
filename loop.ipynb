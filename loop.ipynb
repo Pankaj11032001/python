{
 "cells": [
  {
   "cell_type": "code",
   "execution_count": 31,
   "id": "a9bc6be2",
   "metadata": {},
   "outputs": [],
   "source": [
    "a=11\n",
    "b=20"
   ]
  },
  {
   "cell_type": "code",
   "execution_count": 32,
   "id": "665a6000",
   "metadata": {},
   "outputs": [
    {
     "data": {
      "text/plain": [
       "11"
      ]
     },
     "execution_count": 32,
     "metadata": {},
     "output_type": "execute_result"
    }
   ],
   "source": [
    "a%b"
   ]
  },
  {
   "cell_type": "code",
   "execution_count": 27,
   "id": "da32eab0",
   "metadata": {},
   "outputs": [
    {
     "data": {
      "text/plain": [
       "20"
      ]
     },
     "execution_count": 27,
     "metadata": {},
     "output_type": "execute_result"
    }
   ],
   "source": [
    "a"
   ]
  },
  {
   "cell_type": "code",
   "execution_count": null,
   "id": "0b8ff8b6",
   "metadata": {},
   "outputs": [],
   "source": []
  },
  {
   "cell_type": "code",
   "execution_count": 3,
   "id": "d7bcecf9",
   "metadata": {},
   "outputs": [],
   "source": [
    "a=100\n",
    "b=20"
   ]
  },
  {
   "cell_type": "code",
   "execution_count": 4,
   "id": "8571b55b",
   "metadata": {},
   "outputs": [
    {
     "name": "stdout",
     "output_type": "stream",
     "text": [
      "a is g than b\n"
     ]
    }
   ],
   "source": [
    "if a>b:\n",
    "    print(\"a is g than b\")"
   ]
  },
  {
   "cell_type": "code",
   "execution_count": 5,
   "id": "307d5248",
   "metadata": {},
   "outputs": [],
   "source": [
    "a=10\n",
    "b=20"
   ]
  },
  {
   "cell_type": "code",
   "execution_count": 4,
   "id": "6e0a9248",
   "metadata": {},
   "outputs": [
    {
     "name": "stdout",
     "output_type": "stream",
     "text": [
      "b is g than a\n"
     ]
    }
   ],
   "source": [
    "if a>b:\n",
    "    print(\"a is g than b\")\n",
    "else:\n",
    "    print(\"b is g than a\")"
   ]
  },
  {
   "cell_type": "code",
   "execution_count": 6,
   "id": "3a9b5698",
   "metadata": {},
   "outputs": [],
   "source": [
    "a=10\n",
    "b=20\n",
    "c=30"
   ]
  },
  {
   "cell_type": "code",
   "execution_count": 7,
   "id": "62e7a7df",
   "metadata": {},
   "outputs": [
    {
     "name": "stdout",
     "output_type": "stream",
     "text": [
      "c is g \n"
     ]
    }
   ],
   "source": [
    "if(a>b) & (a>c):\n",
    "    print(\"a is greater\")\n",
    "elif(b>a) & (b>c):\n",
    "    print(\"b is greater\")\n",
    "else:\n",
    "    print(\"c is g \")\n",
    "     "
   ]
  },
  {
   "cell_type": "code",
   "execution_count": 14,
   "id": "6427a797",
   "metadata": {},
   "outputs": [],
   "source": [
    "a=105\n",
    "b=205\n",
    "c=300\n",
    "d=400\n",
    "e=850"
   ]
  },
  {
   "cell_type": "code",
   "execution_count": 16,
   "id": "2e652848",
   "metadata": {},
   "outputs": [
    {
     "name": "stdout",
     "output_type": "stream",
     "text": [
      "e is greater\n"
     ]
    }
   ],
   "source": [
    "if(a>b) & (a>c) & (a>d) & (a>e):\n",
    "    print(\"a is greater\")\n",
    "elif(e>a) & (e>b) & (e>c) & (e>d):\n",
    "    print(\"e is greater\")\n",
    "elif(c>a) & (c>b) & (c>d) & (c>e):\n",
    "    print(\"c is greater \")\n",
    "else:\n",
    "    print(\"d is greater \")\n",
    "     "
   ]
  },
  {
   "cell_type": "code",
   "execution_count": 7,
   "id": "af21bbc8",
   "metadata": {},
   "outputs": [],
   "source": [
    "tup1=('a','b','c')"
   ]
  },
  {
   "cell_type": "code",
   "execution_count": 8,
   "id": "85a282d9",
   "metadata": {},
   "outputs": [
    {
     "name": "stdout",
     "output_type": "stream",
     "text": [
      "not z\n"
     ]
    }
   ],
   "source": [
    "if 'z' in tup1:\n",
    "    print(\"z\")\n",
    "else:\n",
    "    print(\"not z\")"
   ]
  },
  {
   "cell_type": "code",
   "execution_count": 9,
   "id": "7a8df78e",
   "metadata": {},
   "outputs": [],
   "source": [
    "#list"
   ]
  },
  {
   "cell_type": "code",
   "execution_count": 10,
   "id": "be21bbed",
   "metadata": {},
   "outputs": [],
   "source": [
    "l1=['a','b','c']"
   ]
  },
  {
   "cell_type": "code",
   "execution_count": 11,
   "id": "486f3898",
   "metadata": {},
   "outputs": [],
   "source": [
    "if l1[1]=='b':\n",
    "    l1[1]='z'"
   ]
  },
  {
   "cell_type": "code",
   "execution_count": 12,
   "id": "4da44307",
   "metadata": {},
   "outputs": [
    {
     "data": {
      "text/plain": [
       "['a', 'z', 'c']"
      ]
     },
     "execution_count": 12,
     "metadata": {},
     "output_type": "execute_result"
    }
   ],
   "source": [
    "l1"
   ]
  },
  {
   "cell_type": "code",
   "execution_count": 21,
   "id": "c45cb4a7",
   "metadata": {},
   "outputs": [],
   "source": [
    "l1=['a','b','c']"
   ]
  },
  {
   "cell_type": "code",
   "execution_count": 24,
   "id": "3421f58a",
   "metadata": {},
   "outputs": [],
   "source": [
    "if l1[1]=='b':\n",
    "    l1[1]='z'"
   ]
  },
  {
   "cell_type": "code",
   "execution_count": 26,
   "id": "be372110",
   "metadata": {},
   "outputs": [
    {
     "data": {
      "text/plain": [
       "['a', 'z', 'c']"
      ]
     },
     "execution_count": 26,
     "metadata": {},
     "output_type": "execute_result"
    }
   ],
   "source": [
    "l1"
   ]
  },
  {
   "cell_type": "code",
   "execution_count": 27,
   "id": "a665239c",
   "metadata": {},
   "outputs": [],
   "source": [
    "d1={'k1':10,'k2':20,'k3':30}"
   ]
  },
  {
   "cell_type": "code",
   "execution_count": 28,
   "id": "653dd824",
   "metadata": {},
   "outputs": [],
   "source": [
    "if d1['k3']==30:\n",
    "    d1['k3']=d1['k2']+100"
   ]
  },
  {
   "cell_type": "code",
   "execution_count": 29,
   "id": "c98a3751",
   "metadata": {},
   "outputs": [
    {
     "data": {
      "text/plain": [
       "{'k1': 10, 'k2': 20, 'k3': 120}"
      ]
     },
     "execution_count": 29,
     "metadata": {},
     "output_type": "execute_result"
    }
   ],
   "source": [
    "d1"
   ]
  },
  {
   "cell_type": "code",
   "execution_count": 31,
   "id": "b944959d",
   "metadata": {},
   "outputs": [
    {
     "name": "stdout",
     "output_type": "stream",
     "text": [
      "0\n",
      "1\n",
      "2\n",
      "3\n"
     ]
    }
   ],
   "source": [
    "i=0\n",
    "while i<=3:\n",
    "    print(i)\n",
    "    i=i+1"
   ]
  },
  {
   "cell_type": "code",
   "execution_count": 48,
   "id": "cb504298",
   "metadata": {},
   "outputs": [
    {
     "name": "stdout",
     "output_type": "stream",
     "text": [
      "234566"
     ]
    }
   ],
   "source": [
    "arr=[1,2,3,4,5,6]\n",
    "for i in range(1,6):\n",
    "    arr[i-1]=arr[i]\n",
    "for i in range(0,6):\n",
    "    print(arr[i],end=\"\")"
   ]
  },
  {
   "cell_type": "code",
   "execution_count": 50,
   "id": "a1fe98fa",
   "metadata": {},
   "outputs": [
    {
     "data": {
      "text/plain": [
       "5"
      ]
     },
     "execution_count": 50,
     "metadata": {},
     "output_type": "execute_result"
    }
   ],
   "source": [
    "~~~~~~5"
   ]
  },
  {
   "cell_type": "code",
   "execution_count": 54,
   "id": "e99e75cd",
   "metadata": {},
   "outputs": [
    {
     "data": {
      "text/plain": [
       "False"
      ]
     },
     "execution_count": 54,
     "metadata": {},
     "output_type": "execute_result"
    }
   ],
   "source": [
    "0.1+0.2==0.3"
   ]
  },
  {
   "cell_type": "code",
   "execution_count": null,
   "id": "20dbc02a",
   "metadata": {},
   "outputs": [],
   "source": [
    "a=0.3\n"
   ]
  }
 ],
 "metadata": {
  "kernelspec": {
   "display_name": "Python 3 (ipykernel)",
   "language": "python",
   "name": "python3"
  },
  "language_info": {
   "codemirror_mode": {
    "name": "ipython",
    "version": 3
   },
   "file_extension": ".py",
   "mimetype": "text/x-python",
   "name": "python",
   "nbconvert_exporter": "python",
   "pygments_lexer": "ipython3",
   "version": "3.10.4"
  },
  "toc": {
   "base_numbering": 1,
   "nav_menu": {},
   "number_sections": true,
   "sideBar": true,
   "skip_h1_title": false,
   "title_cell": "Table of Contents",
   "title_sidebar": "Contents",
   "toc_cell": false,
   "toc_position": {},
   "toc_section_display": true,
   "toc_window_display": false
  }
 },
 "nbformat": 4,
 "nbformat_minor": 5
}

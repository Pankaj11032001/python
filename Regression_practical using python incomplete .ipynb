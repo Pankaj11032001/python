{
 "cells": [
  {
   "cell_type": "markdown",
   "id": "568878db",
   "metadata": {},
   "source": [
    "# Analysis of General Linear Model"
   ]
  },
  {
   "cell_type": "code",
   "execution_count": null,
   "id": "1d90bc84",
   "metadata": {},
   "outputs": [],
   "source": [
    "Example 1."
   ]
  },
  {
   "cell_type": "markdown",
   "id": "361f2984",
   "metadata": {},
   "source": [
    "Consider the following model:\n",
    "a. $y_1=\\beta_1+\\beta_2+\\epsilon_{1}$ ,$y_2=\\beta_1+\\beta_3+\\epsilon_{2}$, $y_3=\\beta_1+\\beta_2+\\epsilon_{3}$\n",
    "b. $y_i=\\beta_1+\\beta_2x_i+\\epsilon_{i}$ where (i=1,2,3) $x_1=-1, x_2=0,  x_3=1$"
   ]
  },
  {
   "cell_type": "markdown",
   "id": "29a92fb6",
   "metadata": {},
   "source": [
    "Write these models in Gauss-Markoff setup. Find the blues of betai's"
   ]
  },
  {
   "cell_type": "markdown",
   "id": "4c8c00ee",
   "metadata": {},
   "source": [
    "<!-- $\\theta_2 -\\theta_{4}$ --> -->"
   ]
  },
  {
   "cell_type": "code",
   "execution_count": null,
   "id": "190a5b82",
   "metadata": {},
   "outputs": [],
   "source": [
    "Analysis of one way and two way classification models\n",
    "Example 1.\n",
    "\n",
    "A study was done to compare Pinot Noir wine made in three different regions. Wine samples from each region were taken and scored by a panel of judges on the wine quality flavor. The higher the number, the more favorable the rating.\n",
    "\n",
    "Region 1, 3.1, 3.5, 4.8, 3.1, 5.5, 5.0, 4.8, 4.3, 4.7, 4.3, 5.1, 3.0, 4.3, 5.5, 4.2, 3.5, 5.7\n",
    "\n",
    "Region 2, 4.3, 3.4, 5.0, 4.1, 4.7, 5.0, 5.0, 2.9, 5.0\n",
    "\n",
    "Region 3, 3.9, 4.5, 7.0, 6.7, 5.8, 5.6, 4.8, 5.5, 6.6, 5.3, 5.7, 6.0\n",
    "\n",
    "    Compare the flavor ratings for three different regions graphically using appropriate graph.\n",
    "\n",
    "    Analyze the data using suitable model. Test whether the flavor ratings for different regions are significantly different.\n",
    "\n",
    "    Obtain residuals and fitted values for this model."
   ]
  },
  {
   "cell_type": "code",
   "execution_count": null,
   "id": "58c638c5",
   "metadata": {},
   "outputs": [],
   "source": [
    "import numpy as np\n",
    "import pandas as pd\n",
    "\n",
    "dataset=pd.read_csv(\"flavordata.csv\")\n",
    "# dataset[\"Regi\"]=pd.get_dummies(dataset[\"region\"])\n",
    "dataset.head()"
   ]
  },
  {
   "cell_type": "code",
   "execution_count": null,
   "id": "83312aa1",
   "metadata": {},
   "outputs": [],
   "source": [
    "# mod_data=pd.get_dummies(dataset[\"region\"])\n",
    "# mod_data[\"Y\"]=dataset.iloc[:,-1]\n",
    "# mod_data\n",
    "\n",
    "from statsmodels.formula.api import ols\n",
    "model=ols(flavor_score ~ C(region),data=dataset)"
   ]
  },
  {
   "cell_type": "markdown",
   "id": "6af7e5d1",
   "metadata": {},
   "source": [
    "# Lack of Fit test in Simple/Multiple Linear Regression models"
   ]
  },
  {
   "cell_type": "markdown",
   "id": "bae5101e",
   "metadata": {},
   "source": [
    "#### Example 1."
   ]
  },
  {
   "cell_type": "markdown",
   "id": "7597c9f1",
   "metadata": {},
   "source": [
    "#### The diameter, height, and volume of 31 black cherry trees in Allegheny National Forest are recorded in the file c:\\Program Files\\mtbwin\\data\\trees.mtw."
   ]
  },
  {
   "cell_type": "markdown",
   "id": "a5197e26",
   "metadata": {},
   "source": [
    " 1.  Observe the relation between the variables through multiple scatter plot.\n",
    " 2.  Fit the simple linear regression model to regress volume of the tree on diameter of the tree. Perform the lack of fit test.\n",
    " 3.  Test the hypothesis of no regression of volume on diameter if there is no evidence of lack of fit.\n",
    " 4.  Variance covariance matrix of BLUE of regression parameters and predict the value of volume when the diameter is 19.\n",
    " 5.  Check the normality assumption of residuals through normal probability plot."
   ]
  },
  {
   "cell_type": "code",
   "execution_count": null,
   "id": "bdfe6296",
   "metadata": {},
   "outputs": [],
   "source": [
    "#Unbiased Estimator and MLE of Probability\n",
    "import numpy as np\n",
    "import scipy.stats as stat\n",
    "import matplotlib.pyplot as plt\n",
    "n=6\n",
    "p=0.45\n",
    "s=np.random.binomial(n,p,1000)\n",
    "pop_mean=n*p\n",
    "sample_mean=np.mean(s)\n",
    "print(\"population mean\",\"sample mean\",pop_mean,sample_mean)\n",
    "print(\"sample mean is unbised estimator of population mean\")\n",
    "p_hat=(np.mean(s))/n\n",
    "print(\"maximum likelihood estimator:\",p_hat)\n",
    "\n",
    "#Que(i)\n",
    "x=np.arange(0,7)\n",
    "prob=stat.binom.pmf(x,n,p)\n",
    "plt.plot(x,prob)\n",
    "plt.show()\n",
    "\n",
    "#Que(ii)\n",
    "b=3\n",
    "p1=stat.binom.cdf(b,n,p)\n",
    "print(\"probability of 3:\",p1)\n",
    "\n",
    "#Que(iii)\n",
    "a=4\n",
    "p2=1-stat.binom.cdf(a,n,p)\n",
    "print(\"probality is \",p2)\n",
    "\n",
    "#Que(iv)\n",
    "p3=stat.binom.cdf(5,n,p)-stat.binom.cdf(2,n,p)\n",
    "print(p3)"
   ]
  }
 ],
 "metadata": {
  "kernelspec": {
   "display_name": "Python 3 (ipykernel)",
   "language": "python",
   "name": "python3"
  },
  "language_info": {
   "codemirror_mode": {
    "name": "ipython",
    "version": 3
   },
   "file_extension": ".py",
   "mimetype": "text/x-python",
   "name": "python",
   "nbconvert_exporter": "python",
   "pygments_lexer": "ipython3",
   "version": "3.10.4"
  },
  "toc": {
   "base_numbering": 1,
   "nav_menu": {},
   "number_sections": false,
   "sideBar": true,
   "skip_h1_title": false,
   "title_cell": "Table of Contents",
   "title_sidebar": "Contents",
   "toc_cell": false,
   "toc_position": {},
   "toc_section_display": true,
   "toc_window_display": false
  }
 },
 "nbformat": 4,
 "nbformat_minor": 5
}

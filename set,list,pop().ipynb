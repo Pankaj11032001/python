{
 "cells": [
  {
   "cell_type": "markdown",
   "id": "33f40cd2",
   "metadata": {},
   "source": [
    "# Python tutorial\n"
   ]
  },
  {
   "cell_type": "code",
   "execution_count": 47,
   "id": "75ed05b7",
   "metadata": {},
   "outputs": [
    {
     "data": {
      "text/plain": [
       "2"
      ]
     },
     "metadata": {},
     "output_type": "display_data"
    },
    {
     "data": {
      "text/plain": [
       "20"
      ]
     },
     "metadata": {},
     "output_type": "display_data"
    },
    {
     "data": {
      "text/plain": [
       "20"
      ]
     },
     "metadata": {},
     "output_type": "display_data"
    },
    {
     "data": {
      "text/plain": [
       "5.0"
      ]
     },
     "metadata": {},
     "output_type": "display_data"
    },
    {
     "data": {
      "text/plain": [
       "1"
      ]
     },
     "metadata": {},
     "output_type": "display_data"
    },
    {
     "data": {
      "text/plain": [
       "0"
      ]
     },
     "metadata": {},
     "output_type": "display_data"
    },
    {
     "data": {
      "text/plain": [
       "100"
      ]
     },
     "metadata": {},
     "output_type": "display_data"
    },
    {
     "data": {
      "text/plain": [
       "'strstrstrstrstrstrstrstrstrstr'"
      ]
     },
     "metadata": {},
     "output_type": "display_data"
    }
   ],
   "source": [
    "display(1+1,\n",
    "\n",
    " 4*5,\n",
    "\n",
    " 2*10,\n",
    "\n",
    " 10/2,\n",
    "\n",
    " 11%2,  #reminder 1\n",
    "\n",
    " 10%2 , #reminder 0\n",
    "\n",
    " 10**2,\n",
    "\n",
    " 10*\"str\")"
   ]
  },
  {
   "cell_type": "code",
   "execution_count": 8,
   "id": "ca7f5397",
   "metadata": {},
   "outputs": [],
   "source": [
    "# check data type"
   ]
  },
  {
   "cell_type": "code",
   "execution_count": 46,
   "id": "f9d8c87d",
   "metadata": {},
   "outputs": [
    {
     "data": {
      "text/plain": [
       "int"
      ]
     },
     "metadata": {},
     "output_type": "display_data"
    },
    {
     "data": {
      "text/plain": [
       "float"
      ]
     },
     "metadata": {},
     "output_type": "display_data"
    },
    {
     "data": {
      "text/plain": [
       "bool"
      ]
     },
     "metadata": {},
     "output_type": "display_data"
    },
    {
     "data": {
      "text/plain": [
       "10"
      ]
     },
     "metadata": {},
     "output_type": "display_data"
    }
   ],
   "source": [
    "display(type(20),\n",
    "\n",
    "type(0.2),\n",
    "\n",
    "type(True),\n",
    "\n",
    "#string\n",
    "\n",
    "10%12)"
   ]
  },
  {
   "cell_type": "code",
   "execution_count": 48,
   "id": "55b33004",
   "metadata": {},
   "outputs": [
    {
     "data": {
      "text/plain": [
       "200"
      ]
     },
     "metadata": {},
     "output_type": "display_data"
    },
    {
     "data": {
      "text/plain": [
       "0.5"
      ]
     },
     "metadata": {},
     "output_type": "display_data"
    },
    {
     "data": {
      "text/plain": [
       "10"
      ]
     },
     "metadata": {},
     "output_type": "display_data"
    },
    {
     "data": {
      "text/plain": [
       "200.5"
      ]
     },
     "metadata": {},
     "output_type": "display_data"
    }
   ],
   "source": [
    "a=10\n",
    "b=20\n",
    "display((a*b),\n",
    "(a/b),\n",
    "(a%b),\n",
    "((a*b)+(a/b)))#bodmas rule"
   ]
  },
  {
   "cell_type": "code",
   "execution_count": 51,
   "id": "6462da0d",
   "metadata": {},
   "outputs": [],
   "source": [
    "x='pankaj'\n",
    "y='patil'"
   ]
  },
  {
   "cell_type": "code",
   "execution_count": 53,
   "id": "4cd07a6c",
   "metadata": {
    "scrolled": true
   },
   "outputs": [
    {
     "data": {
      "text/plain": [
       "'my first name is pankaj and my last name is patil'"
      ]
     },
     "metadata": {},
     "output_type": "display_data"
    },
    {
     "data": {
      "text/plain": [
       "'my first name is pankaj and my last name is patil'"
      ]
     },
     "metadata": {},
     "output_type": "display_data"
    }
   ],
   "source": [
    "display(\"my first name is {} and my last name is {}\".format(x,y),\n",
    "\n",
    "(\"my first name is {p} and my last name is {q}\".format(p=x,q=y)))"
   ]
  },
  {
   "cell_type": "code",
   "execution_count": 153,
   "id": "d91a87f7",
   "metadata": {},
   "outputs": [
    {
     "data": {
      "text/plain": [
       "6"
      ]
     },
     "metadata": {},
     "output_type": "display_data"
    },
    {
     "data": {
      "text/plain": [
       "bool"
      ]
     },
     "metadata": {},
     "output_type": "display_data"
    }
   ],
   "source": [
    "display(len('monkey') , #length\n",
    "type(True))"
   ]
  },
  {
   "cell_type": "code",
   "execution_count": 155,
   "id": "58e1ff06",
   "metadata": {},
   "outputs": [],
   "source": [
    "my_str=\"krish naik\""
   ]
  },
  {
   "cell_type": "code",
   "execution_count": 156,
   "id": "4d2a0958",
   "metadata": {},
   "outputs": [
    {
     "data": {
      "text/plain": [
       "False"
      ]
     },
     "execution_count": 156,
     "metadata": {},
     "output_type": "execute_result"
    }
   ],
   "source": [
    "my_str.isalnum()"
   ]
  },
  {
   "cell_type": "code",
   "execution_count": 158,
   "id": "aa00fb7d",
   "metadata": {},
   "outputs": [],
   "source": [
    "my_str1=\"Kishna123\""
   ]
  },
  {
   "cell_type": "code",
   "execution_count": 159,
   "id": "cb6e3199",
   "metadata": {},
   "outputs": [
    {
     "data": {
      "text/plain": [
       "True"
      ]
     },
     "execution_count": 159,
     "metadata": {},
     "output_type": "execute_result"
    }
   ],
   "source": [
    "my_str1.isalnum()"
   ]
  },
  {
   "cell_type": "code",
   "execution_count": 160,
   "id": "e4e05687",
   "metadata": {},
   "outputs": [
    {
     "data": {
      "text/plain": [
       "False"
      ]
     },
     "execution_count": 160,
     "metadata": {},
     "output_type": "execute_result"
    }
   ],
   "source": [
    "my_str.isdigit()"
   ]
  },
  {
   "cell_type": "code",
   "execution_count": 161,
   "id": "d39dcadb",
   "metadata": {},
   "outputs": [
    {
     "data": {
      "text/plain": [
       "False"
      ]
     },
     "execution_count": 161,
     "metadata": {},
     "output_type": "execute_result"
    }
   ],
   "source": [
    "my_str1.isalpha()"
   ]
  },
  {
   "cell_type": "code",
   "execution_count": 162,
   "id": "7e7f7e67",
   "metadata": {},
   "outputs": [],
   "source": [
    "my=\"jjjjj\""
   ]
  },
  {
   "cell_type": "code",
   "execution_count": 163,
   "id": "a2aea4c1",
   "metadata": {},
   "outputs": [
    {
     "data": {
      "text/plain": [
       "True"
      ]
     },
     "execution_count": 163,
     "metadata": {},
     "output_type": "execute_result"
    }
   ],
   "source": [
    "my.isalpha()"
   ]
  },
  {
   "cell_type": "code",
   "execution_count": 164,
   "id": "7fc3ea0e",
   "metadata": {},
   "outputs": [
    {
     "data": {
      "text/plain": [
       "'krish naik'"
      ]
     },
     "execution_count": 164,
     "metadata": {},
     "output_type": "execute_result"
    }
   ],
   "source": [
    "my_str.format(my_str1)"
   ]
  },
  {
   "cell_type": "code",
   "execution_count": 165,
   "id": "87a01c51",
   "metadata": {},
   "outputs": [],
   "source": [
    "my_string=\"123456\""
   ]
  },
  {
   "cell_type": "code",
   "execution_count": 166,
   "id": "8322c207",
   "metadata": {},
   "outputs": [
    {
     "data": {
      "text/plain": [
       "True"
      ]
     },
     "execution_count": 166,
     "metadata": {},
     "output_type": "execute_result"
    }
   ],
   "source": [
    "my_string.isdigit()"
   ]
  },
  {
   "cell_type": "code",
   "execution_count": 167,
   "id": "39efd6ed",
   "metadata": {},
   "outputs": [],
   "source": [
    "m=\"Alpha\""
   ]
  },
  {
   "cell_type": "code",
   "execution_count": 168,
   "id": "a8cba37b",
   "metadata": {},
   "outputs": [
    {
     "data": {
      "text/plain": [
       "False"
      ]
     },
     "execution_count": 168,
     "metadata": {},
     "output_type": "execute_result"
    }
   ],
   "source": [
    "m.isupper()"
   ]
  },
  {
   "cell_type": "code",
   "execution_count": 169,
   "id": "7169dac6",
   "metadata": {},
   "outputs": [],
   "source": [
    "m=\"AVVV\""
   ]
  },
  {
   "cell_type": "code",
   "execution_count": 170,
   "id": "9ae292b6",
   "metadata": {},
   "outputs": [
    {
     "data": {
      "text/plain": [
       "True"
      ]
     },
     "execution_count": 170,
     "metadata": {},
     "output_type": "execute_result"
    }
   ],
   "source": [
    "m.isupper()"
   ]
  },
  {
   "cell_type": "code",
   "execution_count": 171,
   "id": "687f579e",
   "metadata": {},
   "outputs": [
    {
     "data": {
      "text/plain": [
       "'AVVV'"
      ]
     },
     "execution_count": 171,
     "metadata": {},
     "output_type": "execute_result"
    }
   ],
   "source": [
    "m.upper()"
   ]
  },
  {
   "cell_type": "code",
   "execution_count": 172,
   "id": "cda7ecdb",
   "metadata": {},
   "outputs": [],
   "source": [
    "b=\"PANKAJ\""
   ]
  },
  {
   "cell_type": "code",
   "execution_count": 173,
   "id": "e353c813",
   "metadata": {},
   "outputs": [
    {
     "data": {
      "text/plain": [
       "'pankaj'"
      ]
     },
     "execution_count": 173,
     "metadata": {},
     "output_type": "execute_result"
    }
   ],
   "source": [
    "b.lower()"
   ]
  },
  {
   "cell_type": "code",
   "execution_count": 175,
   "id": "081b1c46",
   "metadata": {
    "scrolled": true
   },
   "outputs": [
    {
     "data": {
      "text/plain": [
       "True"
      ]
     },
     "execution_count": 175,
     "metadata": {},
     "output_type": "execute_result"
    }
   ],
   "source": [
    "b.isupper()"
   ]
  },
  {
   "cell_type": "markdown",
   "id": "c3f09539",
   "metadata": {},
   "source": [
    "# list"
   ]
  },
  {
   "cell_type": "code",
   "execution_count": 210,
   "id": "ee57a020",
   "metadata": {
    "scrolled": false
   },
   "outputs": [
    {
     "data": {
      "text/plain": [
       "list"
      ]
     },
     "execution_count": 210,
     "metadata": {},
     "output_type": "execute_result"
    }
   ],
   "source": [
    "type([])"
   ]
  },
  {
   "cell_type": "code",
   "execution_count": 211,
   "id": "bbad170d",
   "metadata": {
    "scrolled": true
   },
   "outputs": [
    {
     "data": {
      "text/plain": [
       "tuple"
      ]
     },
     "execution_count": 211,
     "metadata": {},
     "output_type": "execute_result"
    }
   ],
   "source": [
    "type(())"
   ]
  },
  {
   "cell_type": "code",
   "execution_count": 212,
   "id": "dde0436b",
   "metadata": {},
   "outputs": [
    {
     "data": {
      "text/plain": [
       "dict"
      ]
     },
     "execution_count": 212,
     "metadata": {},
     "output_type": "execute_result"
    }
   ],
   "source": [
    "type({})"
   ]
  },
  {
   "cell_type": "code",
   "execution_count": 213,
   "id": "afa21cd3",
   "metadata": {},
   "outputs": [],
   "source": [
    "books=[1,2,3,\"viajy k rohatgi\",\"s malik\"]"
   ]
  },
  {
   "cell_type": "code",
   "execution_count": 214,
   "id": "49e998f0",
   "metadata": {},
   "outputs": [
    {
     "data": {
      "text/plain": [
       "5"
      ]
     },
     "execution_count": 214,
     "metadata": {},
     "output_type": "execute_result"
    }
   ],
   "source": [
    "len(books)"
   ]
  },
  {
   "cell_type": "code",
   "execution_count": 215,
   "id": "c049c13f",
   "metadata": {},
   "outputs": [],
   "source": [
    "books.append('67')"
   ]
  },
  {
   "cell_type": "code",
   "execution_count": 216,
   "id": "b61742b1",
   "metadata": {},
   "outputs": [
    {
     "data": {
      "text/plain": [
       "[1, 2, 3, 'viajy k rohatgi', 's malik', '67']"
      ]
     },
     "execution_count": 216,
     "metadata": {},
     "output_type": "execute_result"
    }
   ],
   "source": [
    "books"
   ]
  },
  {
   "cell_type": "code",
   "execution_count": 217,
   "id": "cce5244b",
   "metadata": {},
   "outputs": [
    {
     "data": {
      "text/plain": [
       "6"
      ]
     },
     "execution_count": 217,
     "metadata": {},
     "output_type": "execute_result"
    }
   ],
   "source": [
    "len(books)"
   ]
  },
  {
   "cell_type": "code",
   "execution_count": 218,
   "id": "544dc770",
   "metadata": {},
   "outputs": [],
   "source": [
    "books.insert(2,'probability')"
   ]
  },
  {
   "cell_type": "code",
   "execution_count": 219,
   "id": "d26d14aa",
   "metadata": {},
   "outputs": [],
   "source": [
    "books.reverse()"
   ]
  },
  {
   "cell_type": "code",
   "execution_count": 220,
   "id": "d2eafbfe",
   "metadata": {},
   "outputs": [
    {
     "data": {
      "text/plain": [
       "['67', 's malik', 'viajy k rohatgi', 3, 'probability', 2, 1]"
      ]
     },
     "execution_count": 220,
     "metadata": {},
     "output_type": "execute_result"
    }
   ],
   "source": [
    "books"
   ]
  },
  {
   "cell_type": "code",
   "execution_count": 43,
   "id": "d0b49052",
   "metadata": {},
   "outputs": [
    {
     "data": {
      "text/plain": [
       "['s malik', 'viajy k rohatgi', 3, 'probability', 2, 1]"
      ]
     },
     "execution_count": 43,
     "metadata": {},
     "output_type": "execute_result"
    }
   ],
   "source": [
    "books[1:]"
   ]
  },
  {
   "cell_type": "code",
   "execution_count": 44,
   "id": "b943219e",
   "metadata": {},
   "outputs": [
    {
     "data": {
      "text/plain": [
       "['67', 's malik', 'viajy k rohatgi', 3, 'probability', 2, 1]"
      ]
     },
     "execution_count": 44,
     "metadata": {},
     "output_type": "execute_result"
    }
   ],
   "source": [
    "books[0:]"
   ]
  },
  {
   "cell_type": "code",
   "execution_count": 45,
   "id": "ebe65e56",
   "metadata": {},
   "outputs": [
    {
     "data": {
      "text/plain": [
       "['s malik', 'viajy k rohatgi', 3, 'probability', 2, 1]"
      ]
     },
     "execution_count": 45,
     "metadata": {},
     "output_type": "execute_result"
    }
   ],
   "source": [
    "books[1:7]"
   ]
  },
  {
   "cell_type": "markdown",
   "id": "341b6cbe",
   "metadata": {},
   "source": [
    "### Copy list"
   ]
  },
  {
   "cell_type": "code",
   "execution_count": 81,
   "id": "21526204",
   "metadata": {},
   "outputs": [
    {
     "name": "stdout",
     "output_type": "stream",
     "text": [
      "old_list: [[5, 'bb'], [7, 8], [9, 10]]\n",
      "new_list: [[5, 'bb'], [7, 8], [9, 10]]\n"
     ]
    }
   ],
   "source": [
    "import copy\n",
    "\n",
    "old_list=[[5,6],[7,8],[9,10]]\n",
    "\n",
    "old_list\n",
    "\n",
    "new_list=copy.copy(old_list)\n",
    "\n",
    "new_list\n",
    "\n",
    "old_list[0][1]='bb'\n",
    "\n",
    "old_list\n",
    "\n",
    "print(\"old_list:\",old_list)\n",
    "print(\"new_list:\",new_list)"
   ]
  },
  {
   "cell_type": "markdown",
   "id": "dd96dabd",
   "metadata": {},
   "source": [
    "###  Deep copy list"
   ]
  },
  {
   "cell_type": "code",
   "execution_count": 80,
   "id": "dc923481",
   "metadata": {},
   "outputs": [
    {
     "name": "stdout",
     "output_type": "stream",
     "text": [
      "old_list: [[5, 'bb'], [7, 8], [9, 10]]\n",
      "new_list: [[5, 6], [7, 8], [9, 10]]\n"
     ]
    }
   ],
   "source": [
    "old_list=[[5,6],[7,8],[9,10]]\n",
    "\n",
    "new_list=copy.deepcopy(old_list)\n",
    "\n",
    "old_list[0][1]='bb'\n",
    "\n",
    "print(\"old_list:\",old_list)\n",
    "print(\"new_list:\",new_list)"
   ]
  },
  {
   "cell_type": "markdown",
   "id": "43564822",
   "metadata": {},
   "source": [
    "# Extend"
   ]
  },
  {
   "cell_type": "code",
   "execution_count": 46,
   "id": "97aeb3ed",
   "metadata": {},
   "outputs": [],
   "source": [
    "books.extend([8,9])"
   ]
  },
  {
   "cell_type": "code",
   "execution_count": 47,
   "id": "f418e9a4",
   "metadata": {},
   "outputs": [
    {
     "data": {
      "text/plain": [
       "['67', 's malik', 'viajy k rohatgi', 3, 'probability', 2, 1, 8, 9]"
      ]
     },
     "execution_count": 47,
     "metadata": {},
     "output_type": "execute_result"
    }
   ],
   "source": [
    "books"
   ]
  },
  {
   "cell_type": "code",
   "execution_count": 48,
   "id": "af605273",
   "metadata": {},
   "outputs": [],
   "source": [
    "books.append([8,9])"
   ]
  },
  {
   "cell_type": "code",
   "execution_count": 49,
   "id": "77102f9a",
   "metadata": {},
   "outputs": [
    {
     "data": {
      "text/plain": [
       "['67', 's malik', 'viajy k rohatgi', 3, 'probability', 2, 1, 8, 9, [8, 9]]"
      ]
     },
     "execution_count": 49,
     "metadata": {},
     "output_type": "execute_result"
    }
   ],
   "source": [
    "books"
   ]
  },
  {
   "cell_type": "markdown",
   "id": "7588d2b0",
   "metadata": {},
   "source": [
    "# pop () method"
   ]
  },
  {
   "cell_type": "code",
   "execution_count": 50,
   "id": "1d2844bd",
   "metadata": {},
   "outputs": [
    {
     "data": {
      "text/plain": [
       "[8, 9]"
      ]
     },
     "execution_count": 50,
     "metadata": {},
     "output_type": "execute_result"
    }
   ],
   "source": [
    "books.pop()"
   ]
  },
  {
   "cell_type": "code",
   "execution_count": 51,
   "id": "268f1696",
   "metadata": {},
   "outputs": [
    {
     "data": {
      "text/plain": [
       "['67', 's malik', 'viajy k rohatgi', 3, 'probability', 2, 1, 8, 9]"
      ]
     },
     "execution_count": 51,
     "metadata": {},
     "output_type": "execute_result"
    }
   ],
   "source": [
    "books"
   ]
  },
  {
   "cell_type": "code",
   "execution_count": 52,
   "id": "49ad152e",
   "metadata": {},
   "outputs": [
    {
     "data": {
      "text/plain": [
       "9"
      ]
     },
     "execution_count": 52,
     "metadata": {},
     "output_type": "execute_result"
    }
   ],
   "source": [
    "books.pop()"
   ]
  },
  {
   "cell_type": "code",
   "execution_count": 53,
   "id": "08fbe2e1",
   "metadata": {},
   "outputs": [
    {
     "data": {
      "text/plain": [
       "['67', 's malik', 'viajy k rohatgi', 3, 'probability', 2, 1, 8]"
      ]
     },
     "execution_count": 53,
     "metadata": {},
     "output_type": "execute_result"
    }
   ],
   "source": [
    "books"
   ]
  },
  {
   "cell_type": "code",
   "execution_count": 54,
   "id": "c254a523",
   "metadata": {},
   "outputs": [
    {
     "data": {
      "text/plain": [
       "3"
      ]
     },
     "execution_count": 54,
     "metadata": {},
     "output_type": "execute_result"
    }
   ],
   "source": [
    "books.pop(3)"
   ]
  },
  {
   "cell_type": "code",
   "execution_count": 55,
   "id": "edbf9b40",
   "metadata": {},
   "outputs": [
    {
     "data": {
      "text/plain": [
       "['67', 's malik', 'viajy k rohatgi', 'probability', 2, 1, 8]"
      ]
     },
     "execution_count": 55,
     "metadata": {},
     "output_type": "execute_result"
    }
   ],
   "source": [
    "books"
   ]
  },
  {
   "cell_type": "markdown",
   "id": "3520d88e",
   "metadata": {},
   "source": [
    "## Count calculate the total occurance of the given elemnt of list"
   ]
  },
  {
   "cell_type": "code",
   "execution_count": 22,
   "id": "bddd0462",
   "metadata": {},
   "outputs": [],
   "source": [
    "name=(\"type of low\")\n"
   ]
  },
  {
   "cell_type": "code",
   "execution_count": 23,
   "id": "e4142ced",
   "metadata": {},
   "outputs": [
    {
     "data": {
      "text/plain": [
       "2"
      ]
     },
     "execution_count": 23,
     "metadata": {},
     "output_type": "execute_result"
    }
   ],
   "source": [
    "name.count(\"o\")"
   ]
  },
  {
   "cell_type": "code",
   "execution_count": 24,
   "id": "bbba6615",
   "metadata": {},
   "outputs": [
    {
     "data": {
      "text/plain": [
       "3"
      ]
     },
     "execution_count": 24,
     "metadata": {},
     "output_type": "execute_result"
    }
   ],
   "source": [
    "num=(1,2,3,1,1,2,5,5)\n",
    "num.count(1)"
   ]
  },
  {
   "cell_type": "code",
   "execution_count": null,
   "id": "44a4ee9c",
   "metadata": {},
   "outputs": [],
   "source": [
    "tup=(1,2,3,4,4,6)\n",
    "\n",
    "sum(tup)\n",
    "\n",
    "dic={\"n\":30,\"p\":20}\n",
    "\n",
    "sum(n+p)"
   ]
  },
  {
   "cell_type": "code",
   "execution_count": 72,
   "id": "eea50b97",
   "metadata": {},
   "outputs": [],
   "source": [
    "s=[11,12,13,14,15] #LIST"
   ]
  },
  {
   "cell_type": "code",
   "execution_count": 73,
   "id": "585deea1",
   "metadata": {},
   "outputs": [
    {
     "data": {
      "text/plain": [
       "65"
      ]
     },
     "metadata": {},
     "output_type": "display_data"
    },
    {
     "data": {
      "text/plain": [
       "4"
      ]
     },
     "metadata": {},
     "output_type": "display_data"
    },
    {
     "data": {
      "text/plain": [
       "1"
      ]
     },
     "metadata": {},
     "output_type": "display_data"
    },
    {
     "data": {
      "text/plain": [
       "11"
      ]
     },
     "metadata": {},
     "output_type": "display_data"
    },
    {
     "data": {
      "text/plain": [
       "15"
      ]
     },
     "metadata": {},
     "output_type": "display_data"
    }
   ],
   "source": [
    "display(sum(s)\n",
    "\n",
    ",s.index(15)\n",
    "\n",
    ",s.index(12)\n",
    "\n",
    ",min(s)\n",
    "\n",
    "\n",
    ",max(s))"
   ]
  },
  {
   "cell_type": "markdown",
   "id": "ed17ea27",
   "metadata": {},
   "source": [
    "### defining an empty set"
   ]
  },
  {
   "cell_type": "code",
   "execution_count": 74,
   "id": "25de285b",
   "metadata": {},
   "outputs": [
    {
     "name": "stdout",
     "output_type": "stream",
     "text": [
      "set()\n"
     ]
    }
   ],
   "source": [
    "set=set()\n",
    "print(set)"
   ]
  },
  {
   "cell_type": "code",
   "execution_count": 228,
   "id": "eb4eb1e1",
   "metadata": {},
   "outputs": [],
   "source": [
    "set1={'a','b','c','d'}"
   ]
  },
  {
   "cell_type": "code",
   "execution_count": 76,
   "id": "73bb403b",
   "metadata": {},
   "outputs": [
    {
     "data": {
      "text/plain": [
       "set"
      ]
     },
     "execution_count": 76,
     "metadata": {},
     "output_type": "execute_result"
    }
   ],
   "source": [
    "type(set1)"
   ]
  },
  {
   "cell_type": "code",
   "execution_count": 77,
   "id": "d3fc7a36",
   "metadata": {},
   "outputs": [
    {
     "name": "stdout",
     "output_type": "stream",
     "text": [
      "set()\n"
     ]
    }
   ],
   "source": [
    "print(set)"
   ]
  },
  {
   "cell_type": "code",
   "execution_count": 78,
   "id": "e5a141cb",
   "metadata": {},
   "outputs": [
    {
     "data": {
      "text/plain": [
       "set"
      ]
     },
     "execution_count": 78,
     "metadata": {},
     "output_type": "execute_result"
    }
   ],
   "source": [
    "type(set)"
   ]
  },
  {
   "cell_type": "code",
   "execution_count": 225,
   "id": "66c2236b",
   "metadata": {},
   "outputs": [],
   "source": [
    "s={1,2,3,4,3}"
   ]
  },
  {
   "cell_type": "code",
   "execution_count": 44,
   "id": "4c8071f8",
   "metadata": {},
   "outputs": [
    {
     "data": {
      "text/plain": [
       "set"
      ]
     },
     "execution_count": 44,
     "metadata": {},
     "output_type": "execute_result"
    }
   ],
   "source": [
    "type(s)"
   ]
  },
  {
   "cell_type": "code",
   "execution_count": 70,
   "id": "2c3ac1b5",
   "metadata": {},
   "outputs": [
    {
     "name": "stdout",
     "output_type": "stream",
     "text": [
      "{1, 2, 3, 4}\n"
     ]
    }
   ],
   "source": [
    "print(s)"
   ]
  },
  {
   "cell_type": "markdown",
   "id": "c7dfb6f5",
   "metadata": {},
   "source": [
    "### inbuild function in set"
   ]
  },
  {
   "cell_type": "code",
   "execution_count": 91,
   "id": "a196d026",
   "metadata": {},
   "outputs": [
    {
     "name": "stdout",
     "output_type": "stream",
     "text": [
      "{5, 'b', 'd', 'a', 'c'}\n"
     ]
    }
   ],
   "source": [
    "set1={'a','b','c','d'}\n",
    "\n",
    "set1.add(5)\n",
    "\n",
    "print(set1)"
   ]
  },
  {
   "cell_type": "markdown",
   "id": "e07306df",
   "metadata": {},
   "source": [
    "###########################################################################"
   ]
  },
  {
   "cell_type": "code",
   "execution_count": 107,
   "id": "d16fa9b3",
   "metadata": {},
   "outputs": [
    {
     "data": {
      "text/plain": [
       "{4, 5}"
      ]
     },
     "execution_count": 107,
     "metadata": {},
     "output_type": "execute_result"
    }
   ],
   "source": [
    "s1={1,2,3}\n",
    "s2={1,2,3,4,5}\n",
    "s2.difference(s1)"
   ]
  },
  {
   "cell_type": "code",
   "execution_count": 108,
   "id": "51596b0e",
   "metadata": {},
   "outputs": [
    {
     "name": "stdout",
     "output_type": "stream",
     "text": [
      "{1, 2, 3, 4, 5}\n"
     ]
    }
   ],
   "source": [
    "print(s2)"
   ]
  },
  {
   "cell_type": "code",
   "execution_count": 109,
   "id": "d18d3674",
   "metadata": {},
   "outputs": [
    {
     "name": "stdout",
     "output_type": "stream",
     "text": [
      "{4, 5}\n"
     ]
    }
   ],
   "source": [
    "s2.difference_update(s1)\n",
    "print(s2)"
   ]
  },
  {
   "cell_type": "markdown",
   "id": "83f90b6d",
   "metadata": {},
   "source": [
    "################################################################################"
   ]
  },
  {
   "cell_type": "code",
   "execution_count": 114,
   "id": "85d4d699",
   "metadata": {},
   "outputs": [
    {
     "data": {
      "text/plain": [
       "{1, 2, 3}"
      ]
     },
     "execution_count": 114,
     "metadata": {},
     "output_type": "execute_result"
    }
   ],
   "source": [
    "s1={1,2,3}\n",
    "s2={1,2,3,4,5}\n",
    "s2.intersection(s1)"
   ]
  },
  {
   "cell_type": "code",
   "execution_count": 115,
   "id": "aac34e2e",
   "metadata": {},
   "outputs": [
    {
     "name": "stdout",
     "output_type": "stream",
     "text": [
      "{1, 2, 3, 4, 5}\n"
     ]
    }
   ],
   "source": [
    "print(s2)"
   ]
  },
  {
   "cell_type": "code",
   "execution_count": 116,
   "id": "2c44077e",
   "metadata": {},
   "outputs": [
    {
     "name": "stdout",
     "output_type": "stream",
     "text": [
      "{1, 2, 3}\n"
     ]
    }
   ],
   "source": [
    "s2.intersection_update(s1)\n",
    "print(s2)"
   ]
  },
  {
   "cell_type": "markdown",
   "id": "1a632e78",
   "metadata": {},
   "source": [
    "##########################################################################"
   ]
  },
  {
   "cell_type": "code",
   "execution_count": 28,
   "id": "52dca105",
   "metadata": {
    "scrolled": true
   },
   "outputs": [],
   "source": [
    "s1={1,2,3}\n",
    "s2={1,2,3,'a',5}"
   ]
  },
  {
   "cell_type": "code",
   "execution_count": 29,
   "id": "8d145d95",
   "metadata": {
    "scrolled": false
   },
   "outputs": [
    {
     "data": {
      "text/plain": [
       "{1, 2, 3}"
      ]
     },
     "execution_count": 29,
     "metadata": {},
     "output_type": "execute_result"
    }
   ],
   "source": [
    "s1.copy()"
   ]
  },
  {
   "cell_type": "code",
   "execution_count": 30,
   "id": "bd087079",
   "metadata": {},
   "outputs": [
    {
     "data": {
      "text/plain": [
       "{1, 2, 3, 5, 'a'}"
      ]
     },
     "execution_count": 30,
     "metadata": {},
     "output_type": "execute_result"
    }
   ],
   "source": [
    "s2.copy()"
   ]
  },
  {
   "cell_type": "code",
   "execution_count": 31,
   "id": "49dc51ad",
   "metadata": {},
   "outputs": [],
   "source": [
    "s1.clear()"
   ]
  },
  {
   "cell_type": "code",
   "execution_count": 32,
   "id": "d26bf4a4",
   "metadata": {},
   "outputs": [
    {
     "data": {
      "text/plain": [
       "set()"
      ]
     },
     "execution_count": 32,
     "metadata": {},
     "output_type": "execute_result"
    }
   ],
   "source": [
    "s1"
   ]
  },
  {
   "cell_type": "code",
   "execution_count": 33,
   "id": "e1d57b22",
   "metadata": {},
   "outputs": [],
   "source": [
    "s1.update(s2)"
   ]
  },
  {
   "cell_type": "code",
   "execution_count": 34,
   "id": "ba0115d6",
   "metadata": {},
   "outputs": [
    {
     "data": {
      "text/plain": [
       "{1, 2, 3, 5, 'a'}"
      ]
     },
     "execution_count": 34,
     "metadata": {},
     "output_type": "execute_result"
    }
   ],
   "source": [
    "s1"
   ]
  },
  {
   "cell_type": "code",
   "execution_count": 35,
   "id": "526164fb",
   "metadata": {},
   "outputs": [
    {
     "name": "stdout",
     "output_type": "stream",
     "text": [
      "{1, 2, 3, 5}\n"
     ]
    }
   ],
   "source": [
    "s1.remove('a')\n",
    "print(s1)"
   ]
  },
  {
   "cell_type": "code",
   "execution_count": 36,
   "id": "f635d9e1",
   "metadata": {},
   "outputs": [
    {
     "name": "stdout",
     "output_type": "stream",
     "text": [
      "{1, 2, 3}\n"
     ]
    }
   ],
   "source": [
    "s1.discard(5)\n",
    "print(s1)"
   ]
  },
  {
   "cell_type": "markdown",
   "id": "b4b5c045",
   "metadata": {},
   "source": [
    "##############################################################################"
   ]
  },
  {
   "cell_type": "code",
   "execution_count": 24,
   "id": "fd36d046",
   "metadata": {},
   "outputs": [],
   "source": [
    "s1={1,2,3}\n",
    "s2={1,2,3,'a',5}"
   ]
  },
  {
   "cell_type": "code",
   "execution_count": 25,
   "id": "4c7240b7",
   "metadata": {},
   "outputs": [
    {
     "data": {
      "text/plain": [
       "{5, 'a'}"
      ]
     },
     "execution_count": 25,
     "metadata": {},
     "output_type": "execute_result"
    }
   ],
   "source": [
    "s1.symmetric_difference(s2)"
   ]
  },
  {
   "cell_type": "code",
   "execution_count": 19,
   "id": "c9c5e6ff",
   "metadata": {},
   "outputs": [
    {
     "data": {
      "text/plain": [
       "False"
      ]
     },
     "execution_count": 19,
     "metadata": {},
     "output_type": "execute_result"
    }
   ],
   "source": [
    " s1.isdisjoint(s2)"
   ]
  },
  {
   "cell_type": "markdown",
   "id": "ae1ef84d",
   "metadata": {},
   "source": [
    "##################################################################################3"
   ]
  },
  {
   "cell_type": "code",
   "execution_count": 20,
   "id": "9c64997e",
   "metadata": {},
   "outputs": [],
   "source": [
    "s1={12,13,14}\n",
    "s2={1,2,3,'a',5}"
   ]
  },
  {
   "cell_type": "code",
   "execution_count": 21,
   "id": "90d51005",
   "metadata": {},
   "outputs": [
    {
     "data": {
      "text/plain": [
       "True"
      ]
     },
     "execution_count": 21,
     "metadata": {},
     "output_type": "execute_result"
    }
   ],
   "source": [
    " s1.isdisjoint(s2)"
   ]
  },
  {
   "cell_type": "code",
   "execution_count": 22,
   "id": "12033bcd",
   "metadata": {},
   "outputs": [
    {
     "data": {
      "text/plain": [
       "{1, 12, 13, 14, 2, 3, 5, 'a'}"
      ]
     },
     "execution_count": 22,
     "metadata": {},
     "output_type": "execute_result"
    }
   ],
   "source": [
    "s1.symmetric_difference(s2)"
   ]
  },
  {
   "cell_type": "markdown",
   "id": "30b7fc7a",
   "metadata": {},
   "source": [
    "##########################################################################################"
   ]
  },
  {
   "cell_type": "code",
   "execution_count": 23,
   "id": "2f5785e6",
   "metadata": {},
   "outputs": [
    {
     "data": {
      "text/plain": [
       "{1, 12, 13, 14, 2, 3, 5, 'a'}"
      ]
     },
     "execution_count": 23,
     "metadata": {},
     "output_type": "execute_result"
    }
   ],
   "source": [
    "s1.union(s2)"
   ]
  },
  {
   "cell_type": "code",
   "execution_count": 97,
   "id": "9ab3876e",
   "metadata": {},
   "outputs": [
    {
     "data": {
      "text/plain": [
       "12"
      ]
     },
     "execution_count": 97,
     "metadata": {},
     "output_type": "execute_result"
    }
   ],
   "source": [
    "s1.pop()"
   ]
  },
  {
   "cell_type": "code",
   "execution_count": 98,
   "id": "a7431121",
   "metadata": {},
   "outputs": [
    {
     "data": {
      "text/plain": [
       "{13, 14}"
      ]
     },
     "execution_count": 98,
     "metadata": {},
     "output_type": "execute_result"
    }
   ],
   "source": [
    "s1"
   ]
  },
  {
   "cell_type": "markdown",
   "id": "d7abe285",
   "metadata": {},
   "source": [
    "# Dictionary"
   ]
  },
  {
   "cell_type": "code",
   "execution_count": 79,
   "id": "31ed913f",
   "metadata": {},
   "outputs": [],
   "source": [
    "d1={}"
   ]
  },
  {
   "cell_type": "code",
   "execution_count": 80,
   "id": "00ff8e1f",
   "metadata": {},
   "outputs": [
    {
     "data": {
      "text/plain": [
       "dict"
      ]
     },
     "execution_count": 80,
     "metadata": {},
     "output_type": "execute_result"
    }
   ],
   "source": [
    "type(d1)"
   ]
  },
  {
   "cell_type": "code",
   "execution_count": 81,
   "id": "fb67d6d8",
   "metadata": {},
   "outputs": [],
   "source": [
    "d1={1,2,3,4}"
   ]
  },
  {
   "cell_type": "code",
   "execution_count": 82,
   "id": "50fdcf68",
   "metadata": {},
   "outputs": [
    {
     "data": {
      "text/plain": [
       "set"
      ]
     },
     "execution_count": 82,
     "metadata": {},
     "output_type": "execute_result"
    }
   ],
   "source": [
    "type(d1)"
   ]
  },
  {
   "cell_type": "code",
   "execution_count": 83,
   "id": "cc07034f",
   "metadata": {},
   "outputs": [
    {
     "data": {
      "text/plain": [
       "dict"
      ]
     },
     "execution_count": 83,
     "metadata": {},
     "output_type": "execute_result"
    }
   ],
   "source": [
    "type(dict()) #empty dict"
   ]
  },
  {
   "cell_type": "code",
   "execution_count": 85,
   "id": "54839354",
   "metadata": {},
   "outputs": [],
   "source": [
    "d2={\"pankaj\":2133,\"krish\":2120}"
   ]
  },
  {
   "cell_type": "code",
   "execution_count": 86,
   "id": "96fdadd8",
   "metadata": {},
   "outputs": [
    {
     "data": {
      "text/plain": [
       "{'pankaj': 2133, 'krish': 2120}"
      ]
     },
     "execution_count": 86,
     "metadata": {},
     "output_type": "execute_result"
    }
   ],
   "source": [
    "d2"
   ]
  },
  {
   "cell_type": "code",
   "execution_count": 227,
   "id": "6774ffb8",
   "metadata": {},
   "outputs": [],
   "source": [
    "d2={'pankaj':2133,'krish':2120}"
   ]
  },
  {
   "cell_type": "code",
   "execution_count": 94,
   "id": "56e6c8fd",
   "metadata": {},
   "outputs": [
    {
     "data": {
      "text/plain": [
       "{'pankaj': 2133, 'krish': 2120}"
      ]
     },
     "execution_count": 94,
     "metadata": {},
     "output_type": "execute_result"
    }
   ],
   "source": [
    "d2"
   ]
  },
  {
   "cell_type": "code",
   "execution_count": 95,
   "id": "0433e94d",
   "metadata": {},
   "outputs": [
    {
     "data": {
      "text/plain": [
       "dict_keys(['pankaj', 'krish'])"
      ]
     },
     "execution_count": 95,
     "metadata": {},
     "output_type": "execute_result"
    }
   ],
   "source": [
    "d2.keys()"
   ]
  },
  {
   "cell_type": "code",
   "execution_count": 96,
   "id": "44f1cabc",
   "metadata": {},
   "outputs": [
    {
     "data": {
      "text/plain": [
       "dict_values([2133, 2120])"
      ]
     },
     "execution_count": 96,
     "metadata": {},
     "output_type": "execute_result"
    }
   ],
   "source": [
    "d2.values()"
   ]
  },
  {
   "cell_type": "code",
   "execution_count": 98,
   "id": "9b8ce538",
   "metadata": {},
   "outputs": [
    {
     "name": "stdout",
     "output_type": "stream",
     "text": [
      "pankaj\n",
      "krish\n"
     ]
    }
   ],
   "source": [
    "for x in d2:\n",
    "    print(x)"
   ]
  },
  {
   "cell_type": "code",
   "execution_count": 99,
   "id": "1cf4dcf7",
   "metadata": {},
   "outputs": [
    {
     "name": "stdout",
     "output_type": "stream",
     "text": [
      "2133\n",
      "2120\n"
     ]
    }
   ],
   "source": [
    "for x in d2.values():\n",
    "    print(x)"
   ]
  },
  {
   "cell_type": "code",
   "execution_count": 100,
   "id": "58d4eacd",
   "metadata": {},
   "outputs": [
    {
     "name": "stdout",
     "output_type": "stream",
     "text": [
      "('pankaj', 2133)\n",
      "('krish', 2120)\n"
     ]
    }
   ],
   "source": [
    "for x in d2.items():\n",
    "    print(x)"
   ]
  },
  {
   "cell_type": "code",
   "execution_count": 111,
   "id": "f036d210",
   "metadata": {},
   "outputs": [],
   "source": [
    "d2[\"manoj\"]=\"2122\""
   ]
  },
  {
   "cell_type": "code",
   "execution_count": 112,
   "id": "40f8ae8e",
   "metadata": {},
   "outputs": [
    {
     "data": {
      "text/plain": [
       "{'pankaj': '2001', 'krish': 2120, 'manoj': '2122'}"
      ]
     },
     "execution_count": 112,
     "metadata": {},
     "output_type": "execute_result"
    }
   ],
   "source": [
    "d2"
   ]
  },
  {
   "cell_type": "code",
   "execution_count": 113,
   "id": "d47e1584",
   "metadata": {},
   "outputs": [
    {
     "data": {
      "text/plain": [
       "{'pankaj': '2001', 'krish': 2120, 'manoj': '2122'}"
      ]
     },
     "execution_count": 113,
     "metadata": {},
     "output_type": "execute_result"
    }
   ],
   "source": [
    "d2[\"pankaj\"]=\"2001\" #update\n",
    "\n",
    "d2"
   ]
  },
  {
   "cell_type": "markdown",
   "id": "f7d0332a",
   "metadata": {},
   "source": [
    "#  Sets"
   ]
  },
  {
   "cell_type": "code",
   "execution_count": 138,
   "id": "f7750ead",
   "metadata": {},
   "outputs": [],
   "source": [
    "set_var=set"
   ]
  },
  {
   "cell_type": "code",
   "execution_count": 139,
   "id": "a4e460fb",
   "metadata": {
    "scrolled": true
   },
   "outputs": [
    {
     "name": "stdout",
     "output_type": "stream",
     "text": [
      "set()\n"
     ]
    }
   ],
   "source": [
    "print(set_var)"
   ]
  },
  {
   "cell_type": "code",
   "execution_count": 140,
   "id": "77655352",
   "metadata": {},
   "outputs": [
    {
     "name": "stdout",
     "output_type": "stream",
     "text": [
      "<class 'set'>\n"
     ]
    }
   ],
   "source": [
    "print(type(set_var))"
   ]
  },
  {
   "cell_type": "code",
   "execution_count": 141,
   "id": "a5c56b6b",
   "metadata": {},
   "outputs": [],
   "source": [
    "set_var={\"manoj\",\"pushkar\"}"
   ]
  },
  {
   "cell_type": "code",
   "execution_count": 142,
   "id": "75420878",
   "metadata": {},
   "outputs": [
    {
     "name": "stdout",
     "output_type": "stream",
     "text": [
      "{'pushkar', 'manoj'}\n"
     ]
    }
   ],
   "source": [
    "print(set_var)"
   ]
  },
  {
   "cell_type": "code",
   "execution_count": 143,
   "id": "8538cbb9",
   "metadata": {},
   "outputs": [
    {
     "name": "stdout",
     "output_type": "stream",
     "text": [
      "<class 'set'>\n"
     ]
    }
   ],
   "source": [
    "print(type(set_var))"
   ]
  },
  {
   "cell_type": "markdown",
   "id": "139a818d",
   "metadata": {},
   "source": [
    "- note:- set does not support indexing #set[0], set_var[\"manoj\"]"
   ]
  },
  {
   "cell_type": "markdown",
   "id": "e88033ae",
   "metadata": {},
   "source": [
    "# Inbuilt fn in set"
   ]
  },
  {
   "cell_type": "code",
   "execution_count": 177,
   "id": "2b136f30",
   "metadata": {},
   "outputs": [],
   "source": [
    "set_var.add(\"pankaj\")"
   ]
  },
  {
   "cell_type": "code",
   "execution_count": 178,
   "id": "1b306263",
   "metadata": {
    "scrolled": true
   },
   "outputs": [
    {
     "data": {
      "text/plain": [
       "{'manoj', 'pankaj', 'pushkar'}"
      ]
     },
     "execution_count": 178,
     "metadata": {},
     "output_type": "execute_result"
    }
   ],
   "source": [
    "set_var"
   ]
  },
  {
   "cell_type": "code",
   "execution_count": 179,
   "id": "fc2e5e88",
   "metadata": {},
   "outputs": [],
   "source": [
    "set_var.clear()"
   ]
  },
  {
   "cell_type": "code",
   "execution_count": 180,
   "id": "2e365167",
   "metadata": {},
   "outputs": [
    {
     "data": {
      "text/plain": [
       "set()"
      ]
     },
     "execution_count": 180,
     "metadata": {},
     "output_type": "execute_result"
    }
   ],
   "source": [
    "set_var"
   ]
  },
  {
   "cell_type": "code",
   "execution_count": 197,
   "id": "0d514ca7",
   "metadata": {},
   "outputs": [
    {
     "name": "stdout",
     "output_type": "stream",
     "text": [
      "{'c1': {'car_1': 1998}, 'c2': {'car_2': 2000}}\n"
     ]
    }
   ],
   "source": [
    "model_1={\"car_1\":1998}\n",
    "model_2={\"car_2\":2000}\n",
    "\n",
    "\n",
    "car_type={'c1':model_1,'c2':model_2}\n",
    "\n",
    "print(car_type)"
   ]
  },
  {
   "cell_type": "code",
   "execution_count": 207,
   "id": "ff7f37fa",
   "metadata": {},
   "outputs": [
    {
     "name": "stdout",
     "output_type": "stream",
     "text": [
      "{'car_1': 1998}\n"
     ]
    }
   ],
   "source": [
    "print(car_type[\"c1\"])"
   ]
  },
  {
   "cell_type": "code",
   "execution_count": 208,
   "id": "ff70349b",
   "metadata": {},
   "outputs": [
    {
     "name": "stdout",
     "output_type": "stream",
     "text": [
      "{'car_2': 2000} {'car_1': 1998}\n",
      "1998\n"
     ]
    }
   ],
   "source": [
    "print(car_type[\"c2\"],car_type[\"c1\"])\n",
    "\n",
    "print(car_type[\"c1\"][\"car_1\"]) "
   ]
  },
  {
   "cell_type": "code",
   "execution_count": 194,
   "id": "b3f0e71d",
   "metadata": {},
   "outputs": [
    {
     "name": "stdout",
     "output_type": "stream",
     "text": [
      "union of two dictionaries {'d1': {'m': 5}, 'd2': {'k': 2}}\n"
     ]
    }
   ],
   "source": [
    "dic1={'m':5}\n",
    "dict2={'k':2}\n",
    "\n",
    "dicttype={\"d1\":dic1,'d2':dict2}\n",
    "\n",
    "print(\"union of two dictionaries\",dicttype)"
   ]
  },
  {
   "cell_type": "code",
   "execution_count": 231,
   "id": "ec72e292",
   "metadata": {},
   "outputs": [],
   "source": [
    "tuppp=(True,False,\"a\",\"b\",1,2,3)\n",
    "\n",
    "type(tuppp)\n",
    "\n",
    "tuppp.count(a)"
   ]
  },
  {
   "cell_type": "code",
   "execution_count": 237,
   "id": "e3c6161b",
   "metadata": {},
   "outputs": [
    {
     "data": {
      "text/plain": [
       "True"
      ]
     },
     "execution_count": 237,
     "metadata": {},
     "output_type": "execute_result"
    }
   ],
   "source": [
    "True & True"
   ]
  },
  {
   "cell_type": "code",
   "execution_count": 238,
   "id": "39f851e1",
   "metadata": {},
   "outputs": [
    {
     "data": {
      "text/plain": [
       "False"
      ]
     },
     "execution_count": 238,
     "metadata": {},
     "output_type": "execute_result"
    }
   ],
   "source": [
    "True & False"
   ]
  },
  {
   "cell_type": "code",
   "execution_count": 239,
   "id": "95159b13",
   "metadata": {},
   "outputs": [
    {
     "data": {
      "text/plain": [
       "False"
      ]
     },
     "execution_count": 239,
     "metadata": {},
     "output_type": "execute_result"
    }
   ],
   "source": [
    "False & True"
   ]
  },
  {
   "cell_type": "code",
   "execution_count": 240,
   "id": "7f15e099",
   "metadata": {},
   "outputs": [
    {
     "data": {
      "text/plain": [
       "True"
      ]
     },
     "execution_count": 240,
     "metadata": {},
     "output_type": "execute_result"
    }
   ],
   "source": [
    "True & True"
   ]
  },
  {
   "cell_type": "code",
   "execution_count": 252,
   "id": "eeba701d",
   "metadata": {},
   "outputs": [],
   "source": [
    "a,b=10,20"
   ]
  },
  {
   "cell_type": "code",
   "execution_count": 256,
   "id": "b9dffe48",
   "metadata": {},
   "outputs": [
    {
     "name": "stdout",
     "output_type": "stream",
     "text": [
      "True\n"
     ]
    }
   ],
   "source": [
    "if a!=b:\n",
    "    print(True)\n",
    "else :\n",
    "    print(False)   "
   ]
  },
  {
   "cell_type": "code",
   "execution_count": null,
   "id": "b2cf12e5",
   "metadata": {},
   "outputs": [],
   "source": []
  }
 ],
 "metadata": {
  "kernelspec": {
   "display_name": "Python 3 (ipykernel)",
   "language": "python",
   "name": "python3"
  },
  "language_info": {
   "codemirror_mode": {
    "name": "ipython",
    "version": 3
   },
   "file_extension": ".py",
   "mimetype": "text/x-python",
   "name": "python",
   "nbconvert_exporter": "python",
   "pygments_lexer": "ipython3",
   "version": "3.10.4"
  },
  "toc": {
   "base_numbering": 1,
   "nav_menu": {},
   "number_sections": false,
   "sideBar": true,
   "skip_h1_title": false,
   "title_cell": "Table of Contents",
   "title_sidebar": "Contents",
   "toc_cell": false,
   "toc_position": {},
   "toc_section_display": true,
   "toc_window_display": false
  }
 },
 "nbformat": 4,
 "nbformat_minor": 5
}
